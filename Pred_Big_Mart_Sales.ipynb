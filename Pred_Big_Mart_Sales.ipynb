{
 "cells": [
  {
   "cell_type": "markdown",
   "metadata": {
    "id": "SReOBKX45zU8"
   },
   "source": [
    "### Big Mart Sales Prediction\n"
   ]
  },
  {
   "cell_type": "markdown",
   "metadata": {
    "id": "FSLht4yx59rk"
   },
   "source": [
    "#### Importing Relevant Libraries"
   ]
  },
  {
   "cell_type": "code",
   "execution_count": 1,
   "metadata": {
    "id": "t2CDg7ofeRNi"
   },
   "outputs": [],
   "source": [
    "import numpy as np\n",
    "import pandas as pd\n",
    "\n",
    "import matplotlib.pyplot as plt\n",
    "import seaborn as sns"
   ]
  },
  {
   "cell_type": "code",
   "execution_count": 2,
   "metadata": {
    "id": "Jk9nVfo7eUuq"
   },
   "outputs": [],
   "source": [
    "from sklearn.model_selection import RandomizedSearchCV ,GridSearchCV, ParameterGrid\n",
    "from sklearn.preprocessing import OrdinalEncoder, StandardScaler, MinMaxScaler, PowerTransformer"
   ]
  },
  {
   "cell_type": "code",
   "execution_count": 3,
   "metadata": {
    "id": "yt2vw1NTixBv"
   },
   "outputs": [],
   "source": [
    "from hyperopt import STATUS_OK, Trials, fmin, hp, tpe"
   ]
  },
  {
   "cell_type": "code",
   "execution_count": 4,
   "metadata": {
    "id": "UhQR18gFi2W0"
   },
   "outputs": [],
   "source": [
    "from sklearn.linear_model import LinearRegression\n",
    "from sklearn.neighbors import KNeighborsRegressor\n",
    "from sklearn.tree import DecisionTreeRegressor\n",
    "from sklearn.ensemble import RandomForestRegressor\n",
    "from sklearn.ensemble import AdaBoostRegressor, GradientBoostingRegressor"
   ]
  },
  {
   "cell_type": "markdown",
   "metadata": {
    "id": "q9mOaKro6G-S"
   },
   "source": [
    "#### Reading Data into Python"
   ]
  },
  {
   "cell_type": "markdown",
   "metadata": {
    "id": "NF47F6qV6K87"
   },
   "source": [
    "##### Test Data"
   ]
  },
  {
   "cell_type": "code",
   "execution_count": 5,
   "metadata": {
    "colab": {
     "base_uri": "https://localhost:8080/",
     "height": 357
    },
    "executionInfo": {
     "elapsed": 326,
     "status": "ok",
     "timestamp": 1659180042543,
     "user": {
      "displayName": "Amal VN",
      "userId": "06605838277080622472"
     },
     "user_tz": -330
    },
    "id": "TdkZ652EfAeN",
    "outputId": "830e9830-c9d6-4145-dacb-f1be5388fe35"
   },
   "outputs": [
    {
     "data": {
      "text/html": [
       "<div>\n",
       "<style scoped>\n",
       "    .dataframe tbody tr th:only-of-type {\n",
       "        vertical-align: middle;\n",
       "    }\n",
       "\n",
       "    .dataframe tbody tr th {\n",
       "        vertical-align: top;\n",
       "    }\n",
       "\n",
       "    .dataframe thead th {\n",
       "        text-align: right;\n",
       "    }\n",
       "</style>\n",
       "<table border=\"1\" class=\"dataframe\">\n",
       "  <thead>\n",
       "    <tr style=\"text-align: right;\">\n",
       "      <th></th>\n",
       "      <th>Item_Identifier</th>\n",
       "      <th>Item_Weight</th>\n",
       "      <th>Item_Fat_Content</th>\n",
       "      <th>Item_Visibility</th>\n",
       "      <th>Item_Type</th>\n",
       "      <th>Item_MRP</th>\n",
       "      <th>Outlet_Identifier</th>\n",
       "      <th>Outlet_Establishment_Year</th>\n",
       "      <th>Outlet_Size</th>\n",
       "      <th>Outlet_Location_Type</th>\n",
       "      <th>Outlet_Type</th>\n",
       "    </tr>\n",
       "  </thead>\n",
       "  <tbody>\n",
       "    <tr>\n",
       "      <th>0</th>\n",
       "      <td>FDW58</td>\n",
       "      <td>20.750</td>\n",
       "      <td>Low Fat</td>\n",
       "      <td>0.007565</td>\n",
       "      <td>Snack Foods</td>\n",
       "      <td>107.8622</td>\n",
       "      <td>OUT049</td>\n",
       "      <td>1999</td>\n",
       "      <td>Medium</td>\n",
       "      <td>Tier 1</td>\n",
       "      <td>Supermarket Type1</td>\n",
       "    </tr>\n",
       "    <tr>\n",
       "      <th>1</th>\n",
       "      <td>FDW14</td>\n",
       "      <td>8.300</td>\n",
       "      <td>reg</td>\n",
       "      <td>0.038428</td>\n",
       "      <td>Dairy</td>\n",
       "      <td>87.3198</td>\n",
       "      <td>OUT017</td>\n",
       "      <td>2007</td>\n",
       "      <td>NaN</td>\n",
       "      <td>Tier 2</td>\n",
       "      <td>Supermarket Type1</td>\n",
       "    </tr>\n",
       "    <tr>\n",
       "      <th>2</th>\n",
       "      <td>NCN55</td>\n",
       "      <td>14.600</td>\n",
       "      <td>Low Fat</td>\n",
       "      <td>0.099575</td>\n",
       "      <td>Others</td>\n",
       "      <td>241.7538</td>\n",
       "      <td>OUT010</td>\n",
       "      <td>1998</td>\n",
       "      <td>NaN</td>\n",
       "      <td>Tier 3</td>\n",
       "      <td>Grocery Store</td>\n",
       "    </tr>\n",
       "    <tr>\n",
       "      <th>3</th>\n",
       "      <td>FDQ58</td>\n",
       "      <td>7.315</td>\n",
       "      <td>Low Fat</td>\n",
       "      <td>0.015388</td>\n",
       "      <td>Snack Foods</td>\n",
       "      <td>155.0340</td>\n",
       "      <td>OUT017</td>\n",
       "      <td>2007</td>\n",
       "      <td>NaN</td>\n",
       "      <td>Tier 2</td>\n",
       "      <td>Supermarket Type1</td>\n",
       "    </tr>\n",
       "    <tr>\n",
       "      <th>4</th>\n",
       "      <td>FDY38</td>\n",
       "      <td>NaN</td>\n",
       "      <td>Regular</td>\n",
       "      <td>0.118599</td>\n",
       "      <td>Dairy</td>\n",
       "      <td>234.2300</td>\n",
       "      <td>OUT027</td>\n",
       "      <td>1985</td>\n",
       "      <td>Medium</td>\n",
       "      <td>Tier 3</td>\n",
       "      <td>Supermarket Type3</td>\n",
       "    </tr>\n",
       "  </tbody>\n",
       "</table>\n",
       "</div>"
      ],
      "text/plain": [
       "  Item_Identifier  Item_Weight Item_Fat_Content  Item_Visibility    Item_Type  \\\n",
       "0           FDW58       20.750          Low Fat         0.007565  Snack Foods   \n",
       "1           FDW14        8.300              reg         0.038428        Dairy   \n",
       "2           NCN55       14.600          Low Fat         0.099575       Others   \n",
       "3           FDQ58        7.315          Low Fat         0.015388  Snack Foods   \n",
       "4           FDY38          NaN          Regular         0.118599        Dairy   \n",
       "\n",
       "   Item_MRP Outlet_Identifier  Outlet_Establishment_Year Outlet_Size  \\\n",
       "0  107.8622            OUT049                       1999      Medium   \n",
       "1   87.3198            OUT017                       2007         NaN   \n",
       "2  241.7538            OUT010                       1998         NaN   \n",
       "3  155.0340            OUT017                       2007         NaN   \n",
       "4  234.2300            OUT027                       1985      Medium   \n",
       "\n",
       "  Outlet_Location_Type        Outlet_Type  \n",
       "0               Tier 1  Supermarket Type1  \n",
       "1               Tier 2  Supermarket Type1  \n",
       "2               Tier 3      Grocery Store  \n",
       "3               Tier 2  Supermarket Type1  \n",
       "4               Tier 3  Supermarket Type3  "
      ]
     },
     "execution_count": 5,
     "metadata": {},
     "output_type": "execute_result"
    }
   ],
   "source": [
    "test = pd.read_csv('test_AbJTz2l.csv')\n",
    "test.head()"
   ]
  },
  {
   "cell_type": "markdown",
   "metadata": {
    "id": "uTilyA3O6OPh"
   },
   "source": [
    "##### Sample Data"
   ]
  },
  {
   "cell_type": "code",
   "execution_count": 6,
   "metadata": {
    "colab": {
     "base_uri": "https://localhost:8080/",
     "height": 206
    },
    "executionInfo": {
     "elapsed": 315,
     "status": "ok",
     "timestamp": 1659180042548,
     "user": {
      "displayName": "Amal VN",
      "userId": "06605838277080622472"
     },
     "user_tz": -330
    },
    "id": "23WjvpLofASY",
    "outputId": "fbe398b7-4f07-4c6d-f81b-b33a5a82ecff"
   },
   "outputs": [
    {
     "data": {
      "text/html": [
       "<div>\n",
       "<style scoped>\n",
       "    .dataframe tbody tr th:only-of-type {\n",
       "        vertical-align: middle;\n",
       "    }\n",
       "\n",
       "    .dataframe tbody tr th {\n",
       "        vertical-align: top;\n",
       "    }\n",
       "\n",
       "    .dataframe thead th {\n",
       "        text-align: right;\n",
       "    }\n",
       "</style>\n",
       "<table border=\"1\" class=\"dataframe\">\n",
       "  <thead>\n",
       "    <tr style=\"text-align: right;\">\n",
       "      <th></th>\n",
       "      <th>Item_Identifier</th>\n",
       "      <th>Outlet_Identifier</th>\n",
       "      <th>Item_Outlet_Sales</th>\n",
       "    </tr>\n",
       "  </thead>\n",
       "  <tbody>\n",
       "    <tr>\n",
       "      <th>0</th>\n",
       "      <td>FDW58</td>\n",
       "      <td>OUT049</td>\n",
       "      <td>1000</td>\n",
       "    </tr>\n",
       "    <tr>\n",
       "      <th>1</th>\n",
       "      <td>FDW14</td>\n",
       "      <td>OUT017</td>\n",
       "      <td>1000</td>\n",
       "    </tr>\n",
       "    <tr>\n",
       "      <th>2</th>\n",
       "      <td>NCN55</td>\n",
       "      <td>OUT010</td>\n",
       "      <td>1000</td>\n",
       "    </tr>\n",
       "    <tr>\n",
       "      <th>3</th>\n",
       "      <td>FDQ58</td>\n",
       "      <td>OUT017</td>\n",
       "      <td>1000</td>\n",
       "    </tr>\n",
       "    <tr>\n",
       "      <th>4</th>\n",
       "      <td>FDY38</td>\n",
       "      <td>OUT027</td>\n",
       "      <td>1000</td>\n",
       "    </tr>\n",
       "  </tbody>\n",
       "</table>\n",
       "</div>"
      ],
      "text/plain": [
       "  Item_Identifier Outlet_Identifier  Item_Outlet_Sales\n",
       "0           FDW58            OUT049               1000\n",
       "1           FDW14            OUT017               1000\n",
       "2           NCN55            OUT010               1000\n",
       "3           FDQ58            OUT017               1000\n",
       "4           FDY38            OUT027               1000"
      ]
     },
     "execution_count": 6,
     "metadata": {},
     "output_type": "execute_result"
    }
   ],
   "source": [
    "sample_ = pd.read_csv('sample_submission_8RXa3c6.csv')\n",
    "sample_.head()"
   ]
  },
  {
   "cell_type": "markdown",
   "metadata": {
    "id": "QAcYjzxr6RF2"
   },
   "source": [
    "##### Train Data"
   ]
  },
  {
   "cell_type": "code",
   "execution_count": 7,
   "metadata": {
    "colab": {
     "base_uri": "https://localhost:8080/",
     "height": 357
    },
    "executionInfo": {
     "elapsed": 307,
     "status": "ok",
     "timestamp": 1659180042553,
     "user": {
      "displayName": "Amal VN",
      "userId": "06605838277080622472"
     },
     "user_tz": -330
    },
    "id": "M6Lqh1oQeinw",
    "outputId": "b1e0df01-bdc6-4e06-8480-46eca2989243"
   },
   "outputs": [
    {
     "data": {
      "text/html": [
       "<div>\n",
       "<style scoped>\n",
       "    .dataframe tbody tr th:only-of-type {\n",
       "        vertical-align: middle;\n",
       "    }\n",
       "\n",
       "    .dataframe tbody tr th {\n",
       "        vertical-align: top;\n",
       "    }\n",
       "\n",
       "    .dataframe thead th {\n",
       "        text-align: right;\n",
       "    }\n",
       "</style>\n",
       "<table border=\"1\" class=\"dataframe\">\n",
       "  <thead>\n",
       "    <tr style=\"text-align: right;\">\n",
       "      <th></th>\n",
       "      <th>Item_Identifier</th>\n",
       "      <th>Item_Weight</th>\n",
       "      <th>Item_Fat_Content</th>\n",
       "      <th>Item_Visibility</th>\n",
       "      <th>Item_Type</th>\n",
       "      <th>Item_MRP</th>\n",
       "      <th>Outlet_Identifier</th>\n",
       "      <th>Outlet_Establishment_Year</th>\n",
       "      <th>Outlet_Size</th>\n",
       "      <th>Outlet_Location_Type</th>\n",
       "      <th>Outlet_Type</th>\n",
       "      <th>Item_Outlet_Sales</th>\n",
       "    </tr>\n",
       "  </thead>\n",
       "  <tbody>\n",
       "    <tr>\n",
       "      <th>0</th>\n",
       "      <td>FDA15</td>\n",
       "      <td>9.30</td>\n",
       "      <td>Low Fat</td>\n",
       "      <td>0.016047</td>\n",
       "      <td>Dairy</td>\n",
       "      <td>249.8092</td>\n",
       "      <td>OUT049</td>\n",
       "      <td>1999</td>\n",
       "      <td>Medium</td>\n",
       "      <td>Tier 1</td>\n",
       "      <td>Supermarket Type1</td>\n",
       "      <td>3735.1380</td>\n",
       "    </tr>\n",
       "    <tr>\n",
       "      <th>1</th>\n",
       "      <td>DRC01</td>\n",
       "      <td>5.92</td>\n",
       "      <td>Regular</td>\n",
       "      <td>0.019278</td>\n",
       "      <td>Soft Drinks</td>\n",
       "      <td>48.2692</td>\n",
       "      <td>OUT018</td>\n",
       "      <td>2009</td>\n",
       "      <td>Medium</td>\n",
       "      <td>Tier 3</td>\n",
       "      <td>Supermarket Type2</td>\n",
       "      <td>443.4228</td>\n",
       "    </tr>\n",
       "    <tr>\n",
       "      <th>2</th>\n",
       "      <td>FDN15</td>\n",
       "      <td>17.50</td>\n",
       "      <td>Low Fat</td>\n",
       "      <td>0.016760</td>\n",
       "      <td>Meat</td>\n",
       "      <td>141.6180</td>\n",
       "      <td>OUT049</td>\n",
       "      <td>1999</td>\n",
       "      <td>Medium</td>\n",
       "      <td>Tier 1</td>\n",
       "      <td>Supermarket Type1</td>\n",
       "      <td>2097.2700</td>\n",
       "    </tr>\n",
       "    <tr>\n",
       "      <th>3</th>\n",
       "      <td>FDX07</td>\n",
       "      <td>19.20</td>\n",
       "      <td>Regular</td>\n",
       "      <td>0.000000</td>\n",
       "      <td>Fruits and Vegetables</td>\n",
       "      <td>182.0950</td>\n",
       "      <td>OUT010</td>\n",
       "      <td>1998</td>\n",
       "      <td>NaN</td>\n",
       "      <td>Tier 3</td>\n",
       "      <td>Grocery Store</td>\n",
       "      <td>732.3800</td>\n",
       "    </tr>\n",
       "    <tr>\n",
       "      <th>4</th>\n",
       "      <td>NCD19</td>\n",
       "      <td>8.93</td>\n",
       "      <td>Low Fat</td>\n",
       "      <td>0.000000</td>\n",
       "      <td>Household</td>\n",
       "      <td>53.8614</td>\n",
       "      <td>OUT013</td>\n",
       "      <td>1987</td>\n",
       "      <td>High</td>\n",
       "      <td>Tier 3</td>\n",
       "      <td>Supermarket Type1</td>\n",
       "      <td>994.7052</td>\n",
       "    </tr>\n",
       "  </tbody>\n",
       "</table>\n",
       "</div>"
      ],
      "text/plain": [
       "  Item_Identifier  Item_Weight Item_Fat_Content  Item_Visibility  \\\n",
       "0           FDA15         9.30          Low Fat         0.016047   \n",
       "1           DRC01         5.92          Regular         0.019278   \n",
       "2           FDN15        17.50          Low Fat         0.016760   \n",
       "3           FDX07        19.20          Regular         0.000000   \n",
       "4           NCD19         8.93          Low Fat         0.000000   \n",
       "\n",
       "               Item_Type  Item_MRP Outlet_Identifier  \\\n",
       "0                  Dairy  249.8092            OUT049   \n",
       "1            Soft Drinks   48.2692            OUT018   \n",
       "2                   Meat  141.6180            OUT049   \n",
       "3  Fruits and Vegetables  182.0950            OUT010   \n",
       "4              Household   53.8614            OUT013   \n",
       "\n",
       "   Outlet_Establishment_Year Outlet_Size Outlet_Location_Type  \\\n",
       "0                       1999      Medium               Tier 1   \n",
       "1                       2009      Medium               Tier 3   \n",
       "2                       1999      Medium               Tier 1   \n",
       "3                       1998         NaN               Tier 3   \n",
       "4                       1987        High               Tier 3   \n",
       "\n",
       "         Outlet_Type  Item_Outlet_Sales  \n",
       "0  Supermarket Type1          3735.1380  \n",
       "1  Supermarket Type2           443.4228  \n",
       "2  Supermarket Type1          2097.2700  \n",
       "3      Grocery Store           732.3800  \n",
       "4  Supermarket Type1           994.7052  "
      ]
     },
     "execution_count": 7,
     "metadata": {},
     "output_type": "execute_result"
    }
   ],
   "source": [
    "train = pd.read_csv('train_v9rqX0R.csv')\n",
    "train.head()"
   ]
  },
  {
   "cell_type": "code",
   "execution_count": 8,
   "metadata": {
    "colab": {
     "base_uri": "https://localhost:8080/"
    },
    "executionInfo": {
     "elapsed": 290,
     "status": "ok",
     "timestamp": 1659180042561,
     "user": {
      "displayName": "Amal VN",
      "userId": "06605838277080622472"
     },
     "user_tz": -330
    },
    "id": "Mx5eontBe9RV",
    "outputId": "d724eb11-058a-488f-9244-1a98915c7ac9"
   },
   "outputs": [
    {
     "data": {
      "text/plain": [
       "(8523, 12)"
      ]
     },
     "execution_count": 8,
     "metadata": {},
     "output_type": "execute_result"
    }
   ],
   "source": [
    "df = train.copy(deep=True)\n",
    "df.shape"
   ]
  },
  {
   "cell_type": "markdown",
   "metadata": {
    "id": "HVn88Hpa6dVe"
   },
   "source": [
    "### EDA"
   ]
  },
  {
   "cell_type": "code",
   "execution_count": 9,
   "metadata": {
    "colab": {
     "base_uri": "https://localhost:8080/"
    },
    "executionInfo": {
     "elapsed": 276,
     "status": "ok",
     "timestamp": 1659180042572,
     "user": {
      "displayName": "Amal VN",
      "userId": "06605838277080622472"
     },
     "user_tz": -330
    },
    "id": "QYB0AQwVfke-",
    "outputId": "d57e0232-083b-4c1e-ffa3-28d0f639fe31"
   },
   "outputs": [
    {
     "name": "stdout",
     "output_type": "stream",
     "text": [
      "<class 'pandas.core.frame.DataFrame'>\n",
      "RangeIndex: 8523 entries, 0 to 8522\n",
      "Data columns (total 12 columns):\n",
      " #   Column                     Non-Null Count  Dtype  \n",
      "---  ------                     --------------  -----  \n",
      " 0   Item_Identifier            8523 non-null   object \n",
      " 1   Item_Weight                7060 non-null   float64\n",
      " 2   Item_Fat_Content           8523 non-null   object \n",
      " 3   Item_Visibility            8523 non-null   float64\n",
      " 4   Item_Type                  8523 non-null   object \n",
      " 5   Item_MRP                   8523 non-null   float64\n",
      " 6   Outlet_Identifier          8523 non-null   object \n",
      " 7   Outlet_Establishment_Year  8523 non-null   int64  \n",
      " 8   Outlet_Size                6113 non-null   object \n",
      " 9   Outlet_Location_Type       8523 non-null   object \n",
      " 10  Outlet_Type                8523 non-null   object \n",
      " 11  Item_Outlet_Sales          8523 non-null   float64\n",
      "dtypes: float64(4), int64(1), object(7)\n",
      "memory usage: 799.2+ KB\n"
     ]
    }
   ],
   "source": [
    "df.info()"
   ]
  },
  {
   "cell_type": "code",
   "execution_count": 10,
   "metadata": {
    "colab": {
     "base_uri": "https://localhost:8080/",
     "height": 300
    },
    "executionInfo": {
     "elapsed": 260,
     "status": "ok",
     "timestamp": 1659180042576,
     "user": {
      "displayName": "Amal VN",
      "userId": "06605838277080622472"
     },
     "user_tz": -330
    },
    "id": "EFwgEOUngnCU",
    "outputId": "85f10a2f-03af-4788-8fca-459d538656d4"
   },
   "outputs": [
    {
     "data": {
      "text/html": [
       "<div>\n",
       "<style scoped>\n",
       "    .dataframe tbody tr th:only-of-type {\n",
       "        vertical-align: middle;\n",
       "    }\n",
       "\n",
       "    .dataframe tbody tr th {\n",
       "        vertical-align: top;\n",
       "    }\n",
       "\n",
       "    .dataframe thead th {\n",
       "        text-align: right;\n",
       "    }\n",
       "</style>\n",
       "<table border=\"1\" class=\"dataframe\">\n",
       "  <thead>\n",
       "    <tr style=\"text-align: right;\">\n",
       "      <th></th>\n",
       "      <th>Item_Weight</th>\n",
       "      <th>Item_Visibility</th>\n",
       "      <th>Item_MRP</th>\n",
       "      <th>Outlet_Establishment_Year</th>\n",
       "      <th>Item_Outlet_Sales</th>\n",
       "    </tr>\n",
       "  </thead>\n",
       "  <tbody>\n",
       "    <tr>\n",
       "      <th>count</th>\n",
       "      <td>7060.000000</td>\n",
       "      <td>8523.000000</td>\n",
       "      <td>8523.000000</td>\n",
       "      <td>8523.000000</td>\n",
       "      <td>8523.000000</td>\n",
       "    </tr>\n",
       "    <tr>\n",
       "      <th>mean</th>\n",
       "      <td>12.857645</td>\n",
       "      <td>0.066132</td>\n",
       "      <td>140.992782</td>\n",
       "      <td>1997.831867</td>\n",
       "      <td>2181.288914</td>\n",
       "    </tr>\n",
       "    <tr>\n",
       "      <th>std</th>\n",
       "      <td>4.643456</td>\n",
       "      <td>0.051598</td>\n",
       "      <td>62.275067</td>\n",
       "      <td>8.371760</td>\n",
       "      <td>1706.499616</td>\n",
       "    </tr>\n",
       "    <tr>\n",
       "      <th>min</th>\n",
       "      <td>4.555000</td>\n",
       "      <td>0.000000</td>\n",
       "      <td>31.290000</td>\n",
       "      <td>1985.000000</td>\n",
       "      <td>33.290000</td>\n",
       "    </tr>\n",
       "    <tr>\n",
       "      <th>25%</th>\n",
       "      <td>8.773750</td>\n",
       "      <td>0.026989</td>\n",
       "      <td>93.826500</td>\n",
       "      <td>1987.000000</td>\n",
       "      <td>834.247400</td>\n",
       "    </tr>\n",
       "    <tr>\n",
       "      <th>50%</th>\n",
       "      <td>12.600000</td>\n",
       "      <td>0.053931</td>\n",
       "      <td>143.012800</td>\n",
       "      <td>1999.000000</td>\n",
       "      <td>1794.331000</td>\n",
       "    </tr>\n",
       "    <tr>\n",
       "      <th>75%</th>\n",
       "      <td>16.850000</td>\n",
       "      <td>0.094585</td>\n",
       "      <td>185.643700</td>\n",
       "      <td>2004.000000</td>\n",
       "      <td>3101.296400</td>\n",
       "    </tr>\n",
       "    <tr>\n",
       "      <th>max</th>\n",
       "      <td>21.350000</td>\n",
       "      <td>0.328391</td>\n",
       "      <td>266.888400</td>\n",
       "      <td>2009.000000</td>\n",
       "      <td>13086.964800</td>\n",
       "    </tr>\n",
       "  </tbody>\n",
       "</table>\n",
       "</div>"
      ],
      "text/plain": [
       "       Item_Weight  Item_Visibility     Item_MRP  Outlet_Establishment_Year  \\\n",
       "count  7060.000000      8523.000000  8523.000000                8523.000000   \n",
       "mean     12.857645         0.066132   140.992782                1997.831867   \n",
       "std       4.643456         0.051598    62.275067                   8.371760   \n",
       "min       4.555000         0.000000    31.290000                1985.000000   \n",
       "25%       8.773750         0.026989    93.826500                1987.000000   \n",
       "50%      12.600000         0.053931   143.012800                1999.000000   \n",
       "75%      16.850000         0.094585   185.643700                2004.000000   \n",
       "max      21.350000         0.328391   266.888400                2009.000000   \n",
       "\n",
       "       Item_Outlet_Sales  \n",
       "count        8523.000000  \n",
       "mean         2181.288914  \n",
       "std          1706.499616  \n",
       "min            33.290000  \n",
       "25%           834.247400  \n",
       "50%          1794.331000  \n",
       "75%          3101.296400  \n",
       "max         13086.964800  "
      ]
     },
     "execution_count": 10,
     "metadata": {},
     "output_type": "execute_result"
    }
   ],
   "source": [
    "df.describe()"
   ]
  },
  {
   "cell_type": "code",
   "execution_count": 11,
   "metadata": {
    "colab": {
     "base_uri": "https://localhost:8080/",
     "height": 175
    },
    "executionInfo": {
     "elapsed": 248,
     "status": "ok",
     "timestamp": 1659180042580,
     "user": {
      "displayName": "Amal VN",
      "userId": "06605838277080622472"
     },
     "user_tz": -330
    },
    "id": "Xzeief6viRR9",
    "outputId": "f76eefed-5bee-4d44-f34b-6c20c59a6eb1"
   },
   "outputs": [
    {
     "data": {
      "text/html": [
       "<div>\n",
       "<style scoped>\n",
       "    .dataframe tbody tr th:only-of-type {\n",
       "        vertical-align: middle;\n",
       "    }\n",
       "\n",
       "    .dataframe tbody tr th {\n",
       "        vertical-align: top;\n",
       "    }\n",
       "\n",
       "    .dataframe thead th {\n",
       "        text-align: right;\n",
       "    }\n",
       "</style>\n",
       "<table border=\"1\" class=\"dataframe\">\n",
       "  <thead>\n",
       "    <tr style=\"text-align: right;\">\n",
       "      <th></th>\n",
       "      <th>Item_Identifier</th>\n",
       "      <th>Item_Fat_Content</th>\n",
       "      <th>Item_Type</th>\n",
       "      <th>Outlet_Identifier</th>\n",
       "      <th>Outlet_Size</th>\n",
       "      <th>Outlet_Location_Type</th>\n",
       "      <th>Outlet_Type</th>\n",
       "    </tr>\n",
       "  </thead>\n",
       "  <tbody>\n",
       "    <tr>\n",
       "      <th>count</th>\n",
       "      <td>8523</td>\n",
       "      <td>8523</td>\n",
       "      <td>8523</td>\n",
       "      <td>8523</td>\n",
       "      <td>6113</td>\n",
       "      <td>8523</td>\n",
       "      <td>8523</td>\n",
       "    </tr>\n",
       "    <tr>\n",
       "      <th>unique</th>\n",
       "      <td>1559</td>\n",
       "      <td>5</td>\n",
       "      <td>16</td>\n",
       "      <td>10</td>\n",
       "      <td>3</td>\n",
       "      <td>3</td>\n",
       "      <td>4</td>\n",
       "    </tr>\n",
       "    <tr>\n",
       "      <th>top</th>\n",
       "      <td>FDW13</td>\n",
       "      <td>Low Fat</td>\n",
       "      <td>Fruits and Vegetables</td>\n",
       "      <td>OUT027</td>\n",
       "      <td>Medium</td>\n",
       "      <td>Tier 3</td>\n",
       "      <td>Supermarket Type1</td>\n",
       "    </tr>\n",
       "    <tr>\n",
       "      <th>freq</th>\n",
       "      <td>10</td>\n",
       "      <td>5089</td>\n",
       "      <td>1232</td>\n",
       "      <td>935</td>\n",
       "      <td>2793</td>\n",
       "      <td>3350</td>\n",
       "      <td>5577</td>\n",
       "    </tr>\n",
       "  </tbody>\n",
       "</table>\n",
       "</div>"
      ],
      "text/plain": [
       "       Item_Identifier Item_Fat_Content              Item_Type  \\\n",
       "count             8523             8523                   8523   \n",
       "unique            1559                5                     16   \n",
       "top              FDW13          Low Fat  Fruits and Vegetables   \n",
       "freq                10             5089                   1232   \n",
       "\n",
       "       Outlet_Identifier Outlet_Size Outlet_Location_Type        Outlet_Type  \n",
       "count               8523        6113                 8523               8523  \n",
       "unique                10           3                    3                  4  \n",
       "top               OUT027      Medium               Tier 3  Supermarket Type1  \n",
       "freq                 935        2793                 3350               5577  "
      ]
     },
     "execution_count": 11,
     "metadata": {},
     "output_type": "execute_result"
    }
   ],
   "source": [
    "df.describe(exclude=np.number)"
   ]
  },
  {
   "cell_type": "code",
   "execution_count": 12,
   "metadata": {
    "colab": {
     "base_uri": "https://localhost:8080/"
    },
    "executionInfo": {
     "elapsed": 242,
     "status": "ok",
     "timestamp": 1659180042588,
     "user": {
      "displayName": "Amal VN",
      "userId": "06605838277080622472"
     },
     "user_tz": -330
    },
    "id": "oZ34CRq3j-2-",
    "outputId": "581e20de-6567-4033-d750-ab431ca02a19"
   },
   "outputs": [
    {
     "data": {
      "text/plain": [
       "Fruits and Vegetables    1232\n",
       "Snack Foods              1200\n",
       "Household                 910\n",
       "Frozen Foods              856\n",
       "Dairy                     682\n",
       "Canned                    649\n",
       "Baking Goods              648\n",
       "Health and Hygiene        520\n",
       "Soft Drinks               445\n",
       "Meat                      425\n",
       "Breads                    251\n",
       "Hard Drinks               214\n",
       "Others                    169\n",
       "Starchy Foods             148\n",
       "Breakfast                 110\n",
       "Seafood                    64\n",
       "Name: Item_Type, dtype: int64"
      ]
     },
     "execution_count": 12,
     "metadata": {},
     "output_type": "execute_result"
    }
   ],
   "source": [
    "df['Item_Type'].value_counts()"
   ]
  },
  {
   "cell_type": "code",
   "execution_count": 13,
   "metadata": {
    "colab": {
     "base_uri": "https://localhost:8080/"
    },
    "executionInfo": {
     "elapsed": 217,
     "status": "ok",
     "timestamp": 1659180042593,
     "user": {
      "displayName": "Amal VN",
      "userId": "06605838277080622472"
     },
     "user_tz": -330
    },
    "id": "LZVlOU8MpuLX",
    "outputId": "3b4a0b4d-d544-426f-871f-a9a46a2bb693"
   },
   "outputs": [
    {
     "data": {
      "text/plain": [
       "Tier 3    3350\n",
       "Tier 2    2785\n",
       "Tier 1    2388\n",
       "Name: Outlet_Location_Type, dtype: int64"
      ]
     },
     "execution_count": 13,
     "metadata": {},
     "output_type": "execute_result"
    }
   ],
   "source": [
    "df['Outlet_Location_Type'].value_counts()"
   ]
  },
  {
   "cell_type": "code",
   "execution_count": 14,
   "metadata": {
    "colab": {
     "base_uri": "https://localhost:8080/"
    },
    "executionInfo": {
     "elapsed": 190,
     "status": "ok",
     "timestamp": 1659180042596,
     "user": {
      "displayName": "Amal VN",
      "userId": "06605838277080622472"
     },
     "user_tz": -330
    },
    "id": "d3YRU3G7yrjo",
    "outputId": "ec03b8cc-86b0-49a3-98cc-e855531a8f3d"
   },
   "outputs": [
    {
     "data": {
      "text/plain": [
       "Supermarket Type1    5577\n",
       "Grocery Store        1083\n",
       "Supermarket Type3     935\n",
       "Supermarket Type2     928\n",
       "Name: Outlet_Type, dtype: int64"
      ]
     },
     "execution_count": 14,
     "metadata": {},
     "output_type": "execute_result"
    }
   ],
   "source": [
    "df['Outlet_Type'].value_counts()"
   ]
  },
  {
   "cell_type": "code",
   "execution_count": 15,
   "metadata": {
    "colab": {
     "base_uri": "https://localhost:8080/"
    },
    "executionInfo": {
     "elapsed": 3829,
     "status": "ok",
     "timestamp": 1659180046259,
     "user": {
      "displayName": "Amal VN",
      "userId": "06605838277080622472"
     },
     "user_tz": -330
    },
    "id": "3SAaVbRFCgBg",
    "outputId": "f62f6099-7f15-47d7-9dfb-9464cf10430e"
   },
   "outputs": [
    {
     "data": {
      "text/plain": [
       "Low Fat    5089\n",
       "Regular    2889\n",
       "LF          316\n",
       "reg         117\n",
       "low fat     112\n",
       "Name: Item_Fat_Content, dtype: int64"
      ]
     },
     "execution_count": 15,
     "metadata": {},
     "output_type": "execute_result"
    }
   ],
   "source": [
    "df['Item_Fat_Content'].value_counts()"
   ]
  },
  {
   "cell_type": "markdown",
   "metadata": {
    "id": "7GCHEh8Y6vdm"
   },
   "source": [
    "Low Fat anf LF refer to same values of different name likewise Regular and reg"
   ]
  },
  {
   "cell_type": "code",
   "execution_count": 16,
   "metadata": {
    "id": "bOZlGDOvCvZN"
   },
   "outputs": [],
   "source": [
    "df['Item_Fat_Content'].replace({'LF': 'Low Fat', 'reg': 'Regular', 'low fat': 'Low Fat'}, inplace=True)"
   ]
  },
  {
   "cell_type": "code",
   "execution_count": 17,
   "metadata": {
    "colab": {
     "base_uri": "https://localhost:8080/"
    },
    "executionInfo": {
     "elapsed": 359,
     "status": "ok",
     "timestamp": 1659180046266,
     "user": {
      "displayName": "Amal VN",
      "userId": "06605838277080622472"
     },
     "user_tz": -330
    },
    "id": "StlK-LGnCvVZ",
    "outputId": "92836bfb-c97b-49ca-f342-db81516b1d19"
   },
   "outputs": [
    {
     "data": {
      "text/plain": [
       "Low Fat    5517\n",
       "Regular    3006\n",
       "Name: Item_Fat_Content, dtype: int64"
      ]
     },
     "execution_count": 17,
     "metadata": {},
     "output_type": "execute_result"
    }
   ],
   "source": [
    "df['Item_Fat_Content'].value_counts()"
   ]
  },
  {
   "cell_type": "markdown",
   "metadata": {
    "id": "_q8thGMQ7FDX"
   },
   "source": [
    "### Handling Null values"
   ]
  },
  {
   "cell_type": "code",
   "execution_count": 18,
   "metadata": {
    "colab": {
     "base_uri": "https://localhost:8080/"
    },
    "executionInfo": {
     "elapsed": 356,
     "status": "ok",
     "timestamp": 1659180046269,
     "user": {
      "displayName": "Amal VN",
      "userId": "06605838277080622472"
     },
     "user_tz": -330
    },
    "id": "NfNDoklp8Z9b",
    "outputId": "f9d779cc-ce23-4eb1-8b12-a2c955d20386"
   },
   "outputs": [
    {
     "data": {
      "text/plain": [
       "Item_Identifier                 0\n",
       "Item_Weight                  1463\n",
       "Item_Fat_Content                0\n",
       "Item_Visibility                 0\n",
       "Item_Type                       0\n",
       "Item_MRP                        0\n",
       "Outlet_Identifier               0\n",
       "Outlet_Establishment_Year       0\n",
       "Outlet_Size                  2410\n",
       "Outlet_Location_Type            0\n",
       "Outlet_Type                     0\n",
       "Item_Outlet_Sales               0\n",
       "dtype: int64"
      ]
     },
     "execution_count": 18,
     "metadata": {},
     "output_type": "execute_result"
    }
   ],
   "source": [
    "df.isnull().sum()"
   ]
  },
  {
   "cell_type": "markdown",
   "metadata": {
    "id": "n_N-5hi17K7R"
   },
   "source": [
    "The weight and size columns contain null values."
   ]
  },
  {
   "cell_type": "code",
   "execution_count": 19,
   "metadata": {
    "colab": {
     "base_uri": "https://localhost:8080/",
     "height": 661
    },
    "executionInfo": {
     "elapsed": 335,
     "status": "ok",
     "timestamp": 1659180046275,
     "user": {
      "displayName": "Amal VN",
      "userId": "06605838277080622472"
     },
     "user_tz": -330
    },
    "id": "Uo9aQwWHI9SY",
    "outputId": "be17cd39-a115-4b77-b905-43ccbe3d552d"
   },
   "outputs": [
    {
     "data": {
      "text/html": [
       "<div>\n",
       "<style scoped>\n",
       "    .dataframe tbody tr th:only-of-type {\n",
       "        vertical-align: middle;\n",
       "    }\n",
       "\n",
       "    .dataframe tbody tr th {\n",
       "        vertical-align: top;\n",
       "    }\n",
       "\n",
       "    .dataframe thead th {\n",
       "        text-align: right;\n",
       "    }\n",
       "</style>\n",
       "<table border=\"1\" class=\"dataframe\">\n",
       "  <thead>\n",
       "    <tr style=\"text-align: right;\">\n",
       "      <th></th>\n",
       "      <th>Item_Identifier</th>\n",
       "      <th>Item_Weight</th>\n",
       "      <th>Item_Fat_Content</th>\n",
       "      <th>Item_Visibility</th>\n",
       "      <th>Item_Type</th>\n",
       "      <th>Item_MRP</th>\n",
       "      <th>Outlet_Identifier</th>\n",
       "      <th>Outlet_Establishment_Year</th>\n",
       "      <th>Outlet_Size</th>\n",
       "      <th>Outlet_Location_Type</th>\n",
       "      <th>Outlet_Type</th>\n",
       "      <th>Item_Outlet_Sales</th>\n",
       "    </tr>\n",
       "  </thead>\n",
       "  <tbody>\n",
       "    <tr>\n",
       "      <th>7</th>\n",
       "      <td>FDP10</td>\n",
       "      <td>NaN</td>\n",
       "      <td>Low Fat</td>\n",
       "      <td>0.127470</td>\n",
       "      <td>Snack Foods</td>\n",
       "      <td>107.7622</td>\n",
       "      <td>OUT027</td>\n",
       "      <td>1985</td>\n",
       "      <td>Medium</td>\n",
       "      <td>Tier 3</td>\n",
       "      <td>Supermarket Type3</td>\n",
       "      <td>4022.7636</td>\n",
       "    </tr>\n",
       "    <tr>\n",
       "      <th>18</th>\n",
       "      <td>DRI11</td>\n",
       "      <td>NaN</td>\n",
       "      <td>Low Fat</td>\n",
       "      <td>0.034238</td>\n",
       "      <td>Hard Drinks</td>\n",
       "      <td>113.2834</td>\n",
       "      <td>OUT027</td>\n",
       "      <td>1985</td>\n",
       "      <td>Medium</td>\n",
       "      <td>Tier 3</td>\n",
       "      <td>Supermarket Type3</td>\n",
       "      <td>2303.6680</td>\n",
       "    </tr>\n",
       "    <tr>\n",
       "      <th>21</th>\n",
       "      <td>FDW12</td>\n",
       "      <td>NaN</td>\n",
       "      <td>Regular</td>\n",
       "      <td>0.035400</td>\n",
       "      <td>Baking Goods</td>\n",
       "      <td>144.5444</td>\n",
       "      <td>OUT027</td>\n",
       "      <td>1985</td>\n",
       "      <td>Medium</td>\n",
       "      <td>Tier 3</td>\n",
       "      <td>Supermarket Type3</td>\n",
       "      <td>4064.0432</td>\n",
       "    </tr>\n",
       "    <tr>\n",
       "      <th>23</th>\n",
       "      <td>FDC37</td>\n",
       "      <td>NaN</td>\n",
       "      <td>Low Fat</td>\n",
       "      <td>0.057557</td>\n",
       "      <td>Baking Goods</td>\n",
       "      <td>107.6938</td>\n",
       "      <td>OUT019</td>\n",
       "      <td>1985</td>\n",
       "      <td>Small</td>\n",
       "      <td>Tier 1</td>\n",
       "      <td>Grocery Store</td>\n",
       "      <td>214.3876</td>\n",
       "    </tr>\n",
       "    <tr>\n",
       "      <th>29</th>\n",
       "      <td>FDC14</td>\n",
       "      <td>NaN</td>\n",
       "      <td>Regular</td>\n",
       "      <td>0.072222</td>\n",
       "      <td>Canned</td>\n",
       "      <td>43.6454</td>\n",
       "      <td>OUT019</td>\n",
       "      <td>1985</td>\n",
       "      <td>Small</td>\n",
       "      <td>Tier 1</td>\n",
       "      <td>Grocery Store</td>\n",
       "      <td>125.8362</td>\n",
       "    </tr>\n",
       "    <tr>\n",
       "      <th>...</th>\n",
       "      <td>...</td>\n",
       "      <td>...</td>\n",
       "      <td>...</td>\n",
       "      <td>...</td>\n",
       "      <td>...</td>\n",
       "      <td>...</td>\n",
       "      <td>...</td>\n",
       "      <td>...</td>\n",
       "      <td>...</td>\n",
       "      <td>...</td>\n",
       "      <td>...</td>\n",
       "      <td>...</td>\n",
       "    </tr>\n",
       "    <tr>\n",
       "      <th>8485</th>\n",
       "      <td>DRK37</td>\n",
       "      <td>NaN</td>\n",
       "      <td>Low Fat</td>\n",
       "      <td>0.043792</td>\n",
       "      <td>Soft Drinks</td>\n",
       "      <td>189.0530</td>\n",
       "      <td>OUT027</td>\n",
       "      <td>1985</td>\n",
       "      <td>Medium</td>\n",
       "      <td>Tier 3</td>\n",
       "      <td>Supermarket Type3</td>\n",
       "      <td>6261.8490</td>\n",
       "    </tr>\n",
       "    <tr>\n",
       "      <th>8487</th>\n",
       "      <td>DRG13</td>\n",
       "      <td>NaN</td>\n",
       "      <td>Low Fat</td>\n",
       "      <td>0.037006</td>\n",
       "      <td>Soft Drinks</td>\n",
       "      <td>164.7526</td>\n",
       "      <td>OUT027</td>\n",
       "      <td>1985</td>\n",
       "      <td>Medium</td>\n",
       "      <td>Tier 3</td>\n",
       "      <td>Supermarket Type3</td>\n",
       "      <td>4111.3150</td>\n",
       "    </tr>\n",
       "    <tr>\n",
       "      <th>8488</th>\n",
       "      <td>NCN14</td>\n",
       "      <td>NaN</td>\n",
       "      <td>Low Fat</td>\n",
       "      <td>0.091473</td>\n",
       "      <td>Others</td>\n",
       "      <td>184.6608</td>\n",
       "      <td>OUT027</td>\n",
       "      <td>1985</td>\n",
       "      <td>Medium</td>\n",
       "      <td>Tier 3</td>\n",
       "      <td>Supermarket Type3</td>\n",
       "      <td>2756.4120</td>\n",
       "    </tr>\n",
       "    <tr>\n",
       "      <th>8490</th>\n",
       "      <td>FDU44</td>\n",
       "      <td>NaN</td>\n",
       "      <td>Regular</td>\n",
       "      <td>0.102296</td>\n",
       "      <td>Fruits and Vegetables</td>\n",
       "      <td>162.3552</td>\n",
       "      <td>OUT019</td>\n",
       "      <td>1985</td>\n",
       "      <td>Small</td>\n",
       "      <td>Tier 1</td>\n",
       "      <td>Grocery Store</td>\n",
       "      <td>487.3656</td>\n",
       "    </tr>\n",
       "    <tr>\n",
       "      <th>8504</th>\n",
       "      <td>NCN18</td>\n",
       "      <td>NaN</td>\n",
       "      <td>Low Fat</td>\n",
       "      <td>0.124111</td>\n",
       "      <td>Household</td>\n",
       "      <td>111.7544</td>\n",
       "      <td>OUT027</td>\n",
       "      <td>1985</td>\n",
       "      <td>Medium</td>\n",
       "      <td>Tier 3</td>\n",
       "      <td>Supermarket Type3</td>\n",
       "      <td>4138.6128</td>\n",
       "    </tr>\n",
       "  </tbody>\n",
       "</table>\n",
       "<p>1463 rows × 12 columns</p>\n",
       "</div>"
      ],
      "text/plain": [
       "     Item_Identifier  Item_Weight Item_Fat_Content  Item_Visibility  \\\n",
       "7              FDP10          NaN          Low Fat         0.127470   \n",
       "18             DRI11          NaN          Low Fat         0.034238   \n",
       "21             FDW12          NaN          Regular         0.035400   \n",
       "23             FDC37          NaN          Low Fat         0.057557   \n",
       "29             FDC14          NaN          Regular         0.072222   \n",
       "...              ...          ...              ...              ...   \n",
       "8485           DRK37          NaN          Low Fat         0.043792   \n",
       "8487           DRG13          NaN          Low Fat         0.037006   \n",
       "8488           NCN14          NaN          Low Fat         0.091473   \n",
       "8490           FDU44          NaN          Regular         0.102296   \n",
       "8504           NCN18          NaN          Low Fat         0.124111   \n",
       "\n",
       "                  Item_Type  Item_MRP Outlet_Identifier  \\\n",
       "7               Snack Foods  107.7622            OUT027   \n",
       "18              Hard Drinks  113.2834            OUT027   \n",
       "21             Baking Goods  144.5444            OUT027   \n",
       "23             Baking Goods  107.6938            OUT019   \n",
       "29                   Canned   43.6454            OUT019   \n",
       "...                     ...       ...               ...   \n",
       "8485            Soft Drinks  189.0530            OUT027   \n",
       "8487            Soft Drinks  164.7526            OUT027   \n",
       "8488                 Others  184.6608            OUT027   \n",
       "8490  Fruits and Vegetables  162.3552            OUT019   \n",
       "8504              Household  111.7544            OUT027   \n",
       "\n",
       "      Outlet_Establishment_Year Outlet_Size Outlet_Location_Type  \\\n",
       "7                          1985      Medium               Tier 3   \n",
       "18                         1985      Medium               Tier 3   \n",
       "21                         1985      Medium               Tier 3   \n",
       "23                         1985       Small               Tier 1   \n",
       "29                         1985       Small               Tier 1   \n",
       "...                         ...         ...                  ...   \n",
       "8485                       1985      Medium               Tier 3   \n",
       "8487                       1985      Medium               Tier 3   \n",
       "8488                       1985      Medium               Tier 3   \n",
       "8490                       1985       Small               Tier 1   \n",
       "8504                       1985      Medium               Tier 3   \n",
       "\n",
       "            Outlet_Type  Item_Outlet_Sales  \n",
       "7     Supermarket Type3          4022.7636  \n",
       "18    Supermarket Type3          2303.6680  \n",
       "21    Supermarket Type3          4064.0432  \n",
       "23        Grocery Store           214.3876  \n",
       "29        Grocery Store           125.8362  \n",
       "...                 ...                ...  \n",
       "8485  Supermarket Type3          6261.8490  \n",
       "8487  Supermarket Type3          4111.3150  \n",
       "8488  Supermarket Type3          2756.4120  \n",
       "8490      Grocery Store           487.3656  \n",
       "8504  Supermarket Type3          4138.6128  \n",
       "\n",
       "[1463 rows x 12 columns]"
      ]
     },
     "execution_count": 19,
     "metadata": {},
     "output_type": "execute_result"
    }
   ],
   "source": [
    "df.loc[df['Item_Weight'].isnull()]"
   ]
  },
  {
   "cell_type": "markdown",
   "metadata": {
    "id": "t8CZl_gP7T8v"
   },
   "source": [
    "Since there are multiple types of items, the missing values can be imputed with the median of the type to which the particular product belongs."
   ]
  },
  {
   "cell_type": "code",
   "execution_count": 20,
   "metadata": {
    "colab": {
     "base_uri": "https://localhost:8080/"
    },
    "executionInfo": {
     "elapsed": 333,
     "status": "ok",
     "timestamp": 1659180046281,
     "user": {
      "displayName": "Amal VN",
      "userId": "06605838277080622472"
     },
     "user_tz": -330
    },
    "id": "Xm67Dvn_JdEl",
    "outputId": "d971aa60-9aab-4c80-b460-de2e987d824c"
   },
   "outputs": [
    {
     "data": {
      "text/plain": [
       "Item_Type\n",
       "Baking Goods             11.650\n",
       "Breads                   10.600\n",
       "Breakfast                10.695\n",
       "Canned                   12.150\n",
       "Dairy                    13.350\n",
       "Frozen Foods             12.850\n",
       "Fruits and Vegetables    13.100\n",
       "Hard Drinks              10.100\n",
       "Health and Hygiene       12.150\n",
       "Household                13.150\n",
       "Meat                     12.350\n",
       "Others                   14.500\n",
       "Seafood                  11.650\n",
       "Snack Foods              13.150\n",
       "Soft Drinks              11.800\n",
       "Starchy Foods            13.175\n",
       "Name: Item_Weight, dtype: float64"
      ]
     },
     "execution_count": 20,
     "metadata": {},
     "output_type": "execute_result"
    }
   ],
   "source": [
    "df.groupby('Item_Type')['Item_Weight'].median()"
   ]
  },
  {
   "cell_type": "code",
   "execution_count": 21,
   "metadata": {
    "id": "t_7q1uQ4zYZD"
   },
   "outputs": [],
   "source": [
    "df['Item_Weight'] = df['Item_Weight'].fillna(df.groupby('Item_Type')['Item_Weight'].transform('median'))"
   ]
  },
  {
   "cell_type": "code",
   "execution_count": 22,
   "metadata": {
    "colab": {
     "base_uri": "https://localhost:8080/"
    },
    "executionInfo": {
     "elapsed": 298,
     "status": "ok",
     "timestamp": 1659180046289,
     "user": {
      "displayName": "Amal VN",
      "userId": "06605838277080622472"
     },
     "user_tz": -330
    },
    "id": "kn-U9k6jMD0m",
    "outputId": "39930517-7a52-44dc-ce8c-788546480a3b"
   },
   "outputs": [
    {
     "data": {
      "text/plain": [
       "Item_Identifier                 0\n",
       "Item_Weight                     0\n",
       "Item_Fat_Content                0\n",
       "Item_Visibility                 0\n",
       "Item_Type                       0\n",
       "Item_MRP                        0\n",
       "Outlet_Identifier               0\n",
       "Outlet_Establishment_Year       0\n",
       "Outlet_Size                  2410\n",
       "Outlet_Location_Type            0\n",
       "Outlet_Type                     0\n",
       "Item_Outlet_Sales               0\n",
       "dtype: int64"
      ]
     },
     "execution_count": 22,
     "metadata": {},
     "output_type": "execute_result"
    }
   ],
   "source": [
    "df.isnull().sum()"
   ]
  },
  {
   "cell_type": "code",
   "execution_count": 23,
   "metadata": {
    "colab": {
     "base_uri": "https://localhost:8080/"
    },
    "executionInfo": {
     "elapsed": 283,
     "status": "ok",
     "timestamp": 1659180046296,
     "user": {
      "displayName": "Amal VN",
      "userId": "06605838277080622472"
     },
     "user_tz": -330
    },
    "id": "eu9QWPgrMNT7",
    "outputId": "050bf77c-0b21-4f5c-e612-86b3f71c2bd9"
   },
   "outputs": [
    {
     "data": {
      "text/plain": [
       "Medium    2793\n",
       "Small     2388\n",
       "High       932\n",
       "Name: Outlet_Size, dtype: int64"
      ]
     },
     "execution_count": 23,
     "metadata": {},
     "output_type": "execute_result"
    }
   ],
   "source": [
    "df['Outlet_Size'].value_counts()"
   ]
  },
  {
   "cell_type": "code",
   "execution_count": 24,
   "metadata": {
    "colab": {
     "base_uri": "https://localhost:8080/"
    },
    "executionInfo": {
     "elapsed": 264,
     "status": "ok",
     "timestamp": 1659180046299,
     "user": {
      "displayName": "Amal VN",
      "userId": "06605838277080622472"
     },
     "user_tz": -330
    },
    "id": "PSXuNLzVMNDP",
    "outputId": "28324e06-cb4e-4498-94d6-3630eeef1cda"
   },
   "outputs": [
    {
     "data": {
      "text/plain": [
       "(1855, 12)"
      ]
     },
     "execution_count": 24,
     "metadata": {},
     "output_type": "execute_result"
    }
   ],
   "source": [
    "df.loc[(df['Outlet_Size'].isnull()) & (df['Outlet_Type']=='Supermarket Type1')].shape"
   ]
  },
  {
   "cell_type": "code",
   "execution_count": 25,
   "metadata": {
    "colab": {
     "base_uri": "https://localhost:8080/"
    },
    "executionInfo": {
     "elapsed": 247,
     "status": "ok",
     "timestamp": 1659180046303,
     "user": {
      "displayName": "Amal VN",
      "userId": "06605838277080622472"
     },
     "user_tz": -330
    },
    "id": "-4liGrX4CY15",
    "outputId": "ca3535a1-a9e5-4b9a-fa09-b40cf0d6145c"
   },
   "outputs": [
    {
     "data": {
      "text/plain": [
       "(555, 12)"
      ]
     },
     "execution_count": 25,
     "metadata": {},
     "output_type": "execute_result"
    }
   ],
   "source": [
    "df.loc[(df['Outlet_Size'].isnull()) & (df['Outlet_Type']== 'Grocery Store')].shape"
   ]
  },
  {
   "cell_type": "code",
   "execution_count": 26,
   "metadata": {
    "colab": {
     "base_uri": "https://localhost:8080/"
    },
    "executionInfo": {
     "elapsed": 236,
     "status": "ok",
     "timestamp": 1659180046305,
     "user": {
      "displayName": "Amal VN",
      "userId": "06605838277080622472"
     },
     "user_tz": -330
    },
    "id": "vV5m3HEWCoIq",
    "outputId": "a5b7274b-8d09-4beb-847c-94a9e1cc522d"
   },
   "outputs": [
    {
     "data": {
      "text/plain": [
       "True"
      ]
     },
     "execution_count": 26,
     "metadata": {},
     "output_type": "execute_result"
    }
   ],
   "source": [
    "df['Outlet_Size'].isnull().sum() == 555 + 1855"
   ]
  },
  {
   "cell_type": "code",
   "execution_count": 27,
   "metadata": {
    "colab": {
     "base_uri": "https://localhost:8080/"
    },
    "executionInfo": {
     "elapsed": 226,
     "status": "ok",
     "timestamp": 1659180046307,
     "user": {
      "displayName": "Amal VN",
      "userId": "06605838277080622472"
     },
     "user_tz": -330
    },
    "id": "J1HyeijTMM6l",
    "outputId": "9e7fe2fc-e608-4bbb-b552-fc37a909ebd4"
   },
   "outputs": [
    {
     "data": {
      "text/plain": [
       "Outlet_Identifier\n",
       "OUT010        []\n",
       "OUT013      High\n",
       "OUT017        []\n",
       "OUT018    Medium\n",
       "OUT019     Small\n",
       "OUT027    Medium\n",
       "OUT035     Small\n",
       "OUT045        []\n",
       "OUT046     Small\n",
       "OUT049    Medium\n",
       "Name: Outlet_Size, dtype: object"
      ]
     },
     "execution_count": 27,
     "metadata": {},
     "output_type": "execute_result"
    }
   ],
   "source": [
    "df.groupby('Outlet_Identifier')['Outlet_Size'].agg(pd.Series.mode)"
   ]
  },
  {
   "cell_type": "markdown",
   "metadata": {
    "id": "GzI49xM88hO-"
   },
   "source": [
    "- Outlets 10, 17, and 45 are completely missing size data.\n",
    "- Since the missing data outlet types are Supermarket Type 1 and grocery stores, the size of such types of stores can be used to impute the missing values."
   ]
  },
  {
   "cell_type": "code",
   "execution_count": 28,
   "metadata": {
    "colab": {
     "base_uri": "https://localhost:8080/"
    },
    "executionInfo": {
     "elapsed": 211,
     "status": "ok",
     "timestamp": 1659180046311,
     "user": {
      "displayName": "Amal VN",
      "userId": "06605838277080622472"
     },
     "user_tz": -330
    },
    "id": "ZjNu2gs-S_le",
    "outputId": "38c1aa26-3c6c-4a0b-ae7f-fcdab760e36d"
   },
   "outputs": [
    {
     "data": {
      "text/plain": [
       "Outlet_Type\n",
       "Grocery Store         Small\n",
       "Supermarket Type1     Small\n",
       "Supermarket Type2    Medium\n",
       "Supermarket Type3    Medium\n",
       "Name: Outlet_Size, dtype: object"
      ]
     },
     "execution_count": 28,
     "metadata": {},
     "output_type": "execute_result"
    }
   ],
   "source": [
    "df.groupby('Outlet_Type')['Outlet_Size'].agg(pd.Series.mode)"
   ]
  },
  {
   "cell_type": "code",
   "execution_count": 29,
   "metadata": {
    "id": "JnAOK_O6T9aT"
   },
   "outputs": [],
   "source": [
    "f = lambda x: x.mode().iloc[0]\n",
    "df['Outlet_Size'] = df['Outlet_Size'].fillna(df.groupby('Outlet_Type')['Outlet_Size'].transform(f))"
   ]
  },
  {
   "cell_type": "code",
   "execution_count": 30,
   "metadata": {
    "colab": {
     "base_uri": "https://localhost:8080/"
    },
    "executionInfo": {
     "elapsed": 203,
     "status": "ok",
     "timestamp": 1659180046318,
     "user": {
      "displayName": "Amal VN",
      "userId": "06605838277080622472"
     },
     "user_tz": -330
    },
    "id": "Eym_KK2XD7G4",
    "outputId": "18e98311-73f8-4576-f154-95b2e8fbfcdd"
   },
   "outputs": [
    {
     "data": {
      "text/plain": [
       "Item_Identifier              0\n",
       "Item_Weight                  0\n",
       "Item_Fat_Content             0\n",
       "Item_Visibility              0\n",
       "Item_Type                    0\n",
       "Item_MRP                     0\n",
       "Outlet_Identifier            0\n",
       "Outlet_Establishment_Year    0\n",
       "Outlet_Size                  0\n",
       "Outlet_Location_Type         0\n",
       "Outlet_Type                  0\n",
       "Item_Outlet_Sales            0\n",
       "dtype: int64"
      ]
     },
     "execution_count": 30,
     "metadata": {},
     "output_type": "execute_result"
    }
   ],
   "source": [
    "df.isnull().sum()"
   ]
  },
  {
   "cell_type": "code",
   "execution_count": 31,
   "metadata": {
    "colab": {
     "base_uri": "https://localhost:8080/"
    },
    "executionInfo": {
     "elapsed": 193,
     "status": "ok",
     "timestamp": 1659180046321,
     "user": {
      "displayName": "Amal VN",
      "userId": "06605838277080622472"
     },
     "user_tz": -330
    },
    "id": "rDyTrF7lFBDL",
    "outputId": "0c59289d-b71d-40f3-813b-9f4894824362"
   },
   "outputs": [
    {
     "data": {
      "text/plain": [
       "Outlet_Identifier\n",
       "OUT010     Small\n",
       "OUT013      High\n",
       "OUT017     Small\n",
       "OUT018    Medium\n",
       "OUT019     Small\n",
       "OUT027    Medium\n",
       "OUT035     Small\n",
       "OUT045     Small\n",
       "OUT046     Small\n",
       "OUT049    Medium\n",
       "Name: Outlet_Size, dtype: object"
      ]
     },
     "execution_count": 31,
     "metadata": {},
     "output_type": "execute_result"
    }
   ],
   "source": [
    "df.groupby('Outlet_Identifier')['Outlet_Size'].agg(pd.Series.mode)"
   ]
  },
  {
   "cell_type": "markdown",
   "metadata": {
    "id": "z1TBxHhsBymL"
   },
   "source": [
    "Item Visibility is the percentage of total area allocated to the particular product. It doesn't make sense that some of the prodcuts have zero visibility."
   ]
  },
  {
   "cell_type": "code",
   "execution_count": 32,
   "metadata": {
    "colab": {
     "base_uri": "https://localhost:8080/"
    },
    "executionInfo": {
     "elapsed": 185,
     "status": "ok",
     "timestamp": 1659180046324,
     "user": {
      "displayName": "Amal VN",
      "userId": "06605838277080622472"
     },
     "user_tz": -330
    },
    "id": "KoyxKsVwFMOV",
    "outputId": "dbb8df7a-315e-4aa6-aef9-53d82a946600"
   },
   "outputs": [
    {
     "data": {
      "text/plain": [
       "(526, 12)"
      ]
     },
     "execution_count": 32,
     "metadata": {},
     "output_type": "execute_result"
    }
   ],
   "source": [
    "df.loc[df['Item_Visibility']==0].shape"
   ]
  },
  {
   "cell_type": "code",
   "execution_count": 33,
   "metadata": {
    "colab": {
     "base_uri": "https://localhost:8080/",
     "height": 296
    },
    "executionInfo": {
     "elapsed": 177,
     "status": "ok",
     "timestamp": 1659180046330,
     "user": {
      "displayName": "Amal VN",
      "userId": "06605838277080622472"
     },
     "user_tz": -330
    },
    "id": "qWUzjfNuFW5l",
    "outputId": "b0f4243c-d4ad-4ef7-8c2e-1cc2e5bade60"
   },
   "outputs": [
    {
     "data": {
      "image/png": "[encoded data removed]",
      "text/plain": [
       "<Figure size 432x288 with 1 Axes>"
      ]
     },
     "metadata": {
      "needs_background": "light"
     },
     "output_type": "display_data"
    }
   ],
   "source": [
    "sns.kdeplot(x=df['Item_Visibility'])\n",
    "plt.title('Distribution of Item Visibility Column')\n",
    "plt.show()"
   ]
  },
  {
   "cell_type": "markdown",
   "metadata": {
    "id": "Fzehg_XICe2A"
   },
   "source": [
    "We can replace the zero values with median."
   ]
  },
  {
   "cell_type": "code",
   "execution_count": 34,
   "metadata": {
    "id": "wQugTVj5Fq8O"
   },
   "outputs": [],
   "source": [
    "df['Item_Visibility'].replace(0, df['Item_Visibility'].median(), inplace=True)"
   ]
  },
  {
   "cell_type": "code",
   "execution_count": 35,
   "metadata": {
    "colab": {
     "base_uri": "https://localhost:8080/"
    },
    "executionInfo": {
     "elapsed": 180,
     "status": "ok",
     "timestamp": 1659180046346,
     "user": {
      "displayName": "Amal VN",
      "userId": "06605838277080622472"
     },
     "user_tz": -330
    },
    "id": "gCCWxoVbGF6y",
    "outputId": "b5708602-09c9-4fd5-aee3-1f484138718a"
   },
   "outputs": [
    {
     "data": {
      "text/plain": [
       "(0, 12)"
      ]
     },
     "execution_count": 35,
     "metadata": {},
     "output_type": "execute_result"
    }
   ],
   "source": [
    "df.loc[df['Item_Visibility']==0].shape"
   ]
  },
  {
   "cell_type": "code",
   "execution_count": 36,
   "metadata": {
    "id": "qnnew0n8GiWd"
   },
   "outputs": [],
   "source": [
    "total_sales = df.groupby(['Outlet_Identifier', 'Outlet_Location_Type'])['Item_Outlet_Sales'].sum().reset_index()"
   ]
  },
  {
   "cell_type": "markdown",
   "metadata": {
    "id": "_ejEiHCbM3yE"
   },
   "source": [
    "### Analysis of Sales based on Type of City"
   ]
  },
  {
   "cell_type": "code",
   "execution_count": 37,
   "metadata": {
    "colab": {
     "base_uri": "https://localhost:8080/",
     "height": 356
    },
    "executionInfo": {
     "elapsed": 167,
     "status": "ok",
     "timestamp": 1659180046352,
     "user": {
      "displayName": "Amal VN",
      "userId": "06605838277080622472"
     },
     "user_tz": -330
    },
    "id": "21GrAjxIHwKn",
    "outputId": "f5d275d6-12ed-4086-94c6-810984f718ab"
   },
   "outputs": [
    {
     "data": {
      "image/png": "[encoded data removed]",
      "text/plain": [
       "<Figure size 720x360 with 1 Axes>"
      ]
     },
     "metadata": {},
     "output_type": "display_data"
    }
   ],
   "source": [
    "sns.set_theme(style='darkgrid')\n",
    "plt.figure(figsize=(10, 5))\n",
    "sns.barplot(x='Outlet_Identifier', y='Item_Outlet_Sales', data=total_sales, hue='Outlet_Location_Type')\n",
    "plt.title('Total sales by each outlets', fontsize=14)\n",
    "plt.show()"
   ]
  },
  {
   "cell_type": "markdown",
   "metadata": {
    "id": "CT-Z4CLJNIQV"
   },
   "source": [
    "Outlests in Tier 3 Cities appear to have more sales"
   ]
  },
  {
   "cell_type": "markdown",
   "metadata": {
    "id": "1e-drfttRXXe"
   },
   "source": [
    "### Total Sales by Item Type"
   ]
  },
  {
   "cell_type": "code",
   "execution_count": 38,
   "metadata": {
    "id": "ZU8SNYSlNV04"
   },
   "outputs": [],
   "source": [
    "sales_by_type = df.groupby('Item_Type')['Item_Outlet_Sales'].sum().reset_index()"
   ]
  },
  {
   "cell_type": "code",
   "execution_count": 39,
   "metadata": {
    "colab": {
     "base_uri": "https://localhost:8080/",
     "height": 466
    },
    "executionInfo": {
     "elapsed": 6298,
     "status": "ok",
     "timestamp": 1659180052490,
     "user": {
      "displayName": "Amal VN",
      "userId": "06605838277080622472"
     },
     "user_tz": -330
    },
    "id": "DljZ92YPNuaw",
    "outputId": "5f0ac2da-e15a-407b-b9bb-cbfb76249dee"
   },
   "outputs": [
    {
     "data": {
      "image/png": "[encoded data removed]",
      "text/plain": [
       "<Figure size 864x360 with 1 Axes>"
      ]
     },
     "metadata": {},
     "output_type": "display_data"
    }
   ],
   "source": [
    "plt.figure(figsize=(12, 5))\n",
    "sns.set_style('darkgrid')\n",
    "plt.title('Sales by Product Type across all outlets', fontsize=14)\n",
    "plt.xticks(rotation=90)\n",
    "sns.barplot(x='Item_Type', y='Item_Outlet_Sales', data=sales_by_type)\n",
    "plt.show()"
   ]
  },
  {
   "cell_type": "markdown",
   "metadata": {
    "id": "DCGNTYv0RMi9"
   },
   "source": [
    "We see that fruits and vegetables have highest sales followed by Snack foods."
   ]
  },
  {
   "cell_type": "code",
   "execution_count": 40,
   "metadata": {
    "id": "h9Lj58zpRh56"
   },
   "outputs": [],
   "source": [
    "sales_store_type = df.groupby('Outlet_Type')['Item_Outlet_Sales'].sum().reset_index()"
   ]
  },
  {
   "cell_type": "code",
   "execution_count": 99,
   "metadata": {
    "colab": {
     "base_uri": "https://localhost:8080/",
     "height": 356
    },
    "executionInfo": {
     "elapsed": 1093,
     "status": "ok",
     "timestamp": 1659180052508,
     "user": {
      "displayName": "Amal VN",
      "userId": "06605838277080622472"
     },
     "user_tz": -330
    },
    "id": "av95vJMQRve-",
    "outputId": "7d80158b-c907-4a2f-929b-9a9842d256ae"
   },
   "outputs": [
    {
     "data": {
      "image/png": "[encoded data removed]",
      "text/plain": [
       "<Figure size 504x360 with 1 Axes>"
      ]
     },
     "metadata": {},
     "output_type": "display_data"
    }
   ],
   "source": [
    "plt.figure(figsize=(7, 5))\n",
    "sns.set_style('darkgrid')\n",
    "plt.title('Sales by Outlet Type across all outlets', fontsize=14)\n",
    "\n",
    "sns.barplot(x='Outlet_Type', y='Item_Outlet_Sales', data=sales_store_type)\n",
    "plt.show()"
   ]
  },
  {
   "cell_type": "markdown",
   "metadata": {
    "id": "iHpWIjekR_2_"
   },
   "source": [
    "Type 1 supermarkets lead in sales."
   ]
  },
  {
   "cell_type": "markdown",
   "metadata": {
    "id": "4Y5QjBjod2tn"
   },
   "source": [
    "### Relationships between:\n",
    "- Product Weight and MRP"
   ]
  },
  {
   "cell_type": "code",
   "execution_count": 42,
   "metadata": {
    "colab": {
     "base_uri": "https://localhost:8080/",
     "height": 302
    },
    "executionInfo": {
     "elapsed": 1075,
     "status": "ok",
     "timestamp": 1659180052513,
     "user": {
      "displayName": "Amal VN",
      "userId": "06605838277080622472"
     },
     "user_tz": -330
    },
    "id": "HBNhFJ3PRvUQ",
    "outputId": "6ac6cf25-be02-4b89-9472-02e9ac451891"
   },
   "outputs": [
    {
     "data": {
      "image/png": "[encoded data removed]",
      "text/plain": [
       "<Figure size 576x288 with 1 Axes>"
      ]
     },
     "metadata": {},
     "output_type": "display_data"
    }
   ],
   "source": [
    "plt.figure(figsize=(8, 4))\n",
    "sns.scatterplot(x='Item_Weight', y='Item_MRP', data=df)\n",
    "plt.title('Weight vs MRP', fontsize=14)\n",
    "plt.show()"
   ]
  },
  {
   "cell_type": "markdown",
   "metadata": {
    "id": "hgNZebA6eBJb"
   },
   "source": [
    "- Visibility and Sales"
   ]
  },
  {
   "cell_type": "code",
   "execution_count": 43,
   "metadata": {
    "colab": {
     "base_uri": "https://localhost:8080/",
     "height": 302
    },
    "executionInfo": {
     "elapsed": 1067,
     "status": "ok",
     "timestamp": 1659180052523,
     "user": {
      "displayName": "Amal VN",
      "userId": "06605838277080622472"
     },
     "user_tz": -330
    },
    "id": "_ITg-HMNSt3i",
    "outputId": "63b5f538-4235-4ef5-ab14-a3fadf6432df"
   },
   "outputs": [
    {
     "data": {
      "image/png": "[encoded data removed]",
      "text/plain": [
       "<Figure size 576x288 with 1 Axes>"
      ]
     },
     "metadata": {},
     "output_type": "display_data"
    }
   ],
   "source": [
    "plt.figure(figsize=(8, 4))\n",
    "sns.scatterplot(x='Item_Visibility', y='Item_Outlet_Sales', data=df)\n",
    "plt.title('Visibility vs Sales', fontsize=14)\n",
    "plt.show()"
   ]
  },
  {
   "cell_type": "markdown",
   "metadata": {
    "id": "XPQe589kecwr"
   },
   "source": [
    "- In both cases, there doesn't seem to be a particular pattern between the variables.\n",
    "- However, Sales seem low for products with high share of visibility.\n",
    "- This could be because products with high sales as we saw before are snack foods that doesn't take much space."
   ]
  },
  {
   "cell_type": "markdown",
   "metadata": {
    "id": "42PC49apfBTs"
   },
   "source": [
    "### Correlation between Columns"
   ]
  },
  {
   "cell_type": "code",
   "execution_count": 44,
   "metadata": {
    "id": "K1c6A0y0b2KE"
   },
   "outputs": [],
   "source": [
    "num_cols = df.select_dtypes(exclude='object').drop('Outlet_Establishment_Year', axis=1).columns.to_list()"
   ]
  },
  {
   "cell_type": "code",
   "execution_count": 102,
   "metadata": {
    "colab": {
     "base_uri": "https://localhost:8080/",
     "height": 362
    },
    "executionInfo": {
     "elapsed": 1061,
     "status": "ok",
     "timestamp": 1659180052539,
     "user": {
      "displayName": "Amal VN",
      "userId": "06605838277080622472"
     },
     "user_tz": -330
    },
    "id": "k4MLbP9Eb2AY",
    "outputId": "49047ed9-1ffb-4687-d691-d36cc76c6fad"
   },
   "outputs": [
    {
     "data": {
      "image/png": "[encoded data removed]",
      "text/plain": [
       "<Figure size 432x288 with 2 Axes>"
      ]
     },
     "metadata": {},
     "output_type": "display_data"
    }
   ],
   "source": [
    "corr_matrix = df[num_cols].corr()\n",
    "sns.heatmap(corr_matrix, annot=True, cmap='YlGnBu')\n",
    "plt.show()"
   ]
  },
  {
   "cell_type": "markdown",
   "metadata": {
    "id": "hujwVfMifsrs"
   },
   "source": [
    "Outliers in columns"
   ]
  },
  {
   "cell_type": "code",
   "execution_count": 46,
   "metadata": {
    "colab": {
     "base_uri": "https://localhost:8080/",
     "height": 339
    },
    "executionInfo": {
     "elapsed": 1064,
     "status": "ok",
     "timestamp": 1659180052553,
     "user": {
      "displayName": "Amal VN",
      "userId": "06605838277080622472"
     },
     "user_tz": -330
    },
    "id": "dLb1I-wEZ2jo",
    "outputId": "1c9b5c05-3efa-4982-aa95-55d0230df5fe"
   },
   "outputs": [
    {
     "data": {
      "image/png": "[encoded data removed]",
      "text/plain": [
       "<Figure size 720x360 with 1 Axes>"
      ]
     },
     "metadata": {},
     "output_type": "display_data"
    }
   ],
   "source": [
    "plt.figure(figsize=(10, 5))\n",
    "sns.boxplot(x='Item_Visibility', data=df, orient='h')\n",
    "plt.show()"
   ]
  },
  {
   "cell_type": "markdown",
   "metadata": {
    "id": "LisKHo8I9p2x"
   },
   "source": [
    "Since the item visibility varies with type of items, this is to be expected. So we leave it unchanged."
   ]
  },
  {
   "cell_type": "markdown",
   "metadata": {
    "id": "Nwc3lGC_fKit"
   },
   "source": [
    "### Feature Engineering"
   ]
  },
  {
   "cell_type": "markdown",
   "metadata": {
    "id": "g-Sz20SmfXUw"
   },
   "source": [
    "Chainging age into a more meaningful feature such as how old the outlet is."
   ]
  },
  {
   "cell_type": "code",
   "execution_count": 47,
   "metadata": {
    "id": "yQnpJYCQPTS6"
   },
   "outputs": [],
   "source": [
    "df['Outlet_Age'] = 2013 - df['Outlet_Establishment_Year']"
   ]
  },
  {
   "cell_type": "markdown",
   "metadata": {
    "id": "YbclgTc7HYpx"
   },
   "source": [
    "Since there are 16 item types, one-hot encoding will lead to too many features. So we can encode using frequency of each type in train set."
   ]
  },
  {
   "cell_type": "code",
   "execution_count": 48,
   "metadata": {
    "colab": {
     "base_uri": "https://localhost:8080/"
    },
    "executionInfo": {
     "elapsed": 1065,
     "status": "ok",
     "timestamp": 1659180052570,
     "user": {
      "displayName": "Amal VN",
      "userId": "06605838277080622472"
     },
     "user_tz": -330
    },
    "id": "ouWfZ0c9Xb3x",
    "outputId": "443e9d11-624d-4477-8867-c97983ac2508"
   },
   "outputs": [
    {
     "data": {
      "text/plain": [
       "Item_Type\n",
       "Baking Goods             0.076030\n",
       "Breads                   0.029450\n",
       "Breakfast                0.012906\n",
       "Canned                   0.076147\n",
       "Dairy                    0.080019\n",
       "Frozen Foods             0.100434\n",
       "Fruits and Vegetables    0.144550\n",
       "Hard Drinks              0.025109\n",
       "Health and Hygiene       0.061011\n",
       "Household                0.106770\n",
       "Meat                     0.049865\n",
       "Others                   0.019829\n",
       "Seafood                  0.007509\n",
       "Snack Foods              0.140795\n",
       "Soft Drinks              0.052212\n",
       "Starchy Foods            0.017365\n",
       "dtype: float64"
      ]
     },
     "execution_count": 48,
     "metadata": {},
     "output_type": "execute_result"
    }
   ],
   "source": [
    "df.groupby('Item_Type').size()/len(df)"
   ]
  },
  {
   "cell_type": "code",
   "execution_count": 49,
   "metadata": {
    "colab": {
     "base_uri": "https://localhost:8080/"
    },
    "executionInfo": {
     "elapsed": 947,
     "status": "ok",
     "timestamp": 1659180052578,
     "user": {
      "displayName": "Amal VN",
      "userId": "06605838277080622472"
     },
     "user_tz": -330
    },
    "id": "r4TI9bTgYLI2",
    "outputId": "b5654efe-cacd-4d8d-823c-e6c798070240"
   },
   "outputs": [
    {
     "data": {
      "text/plain": [
       "Low Fat    169\n",
       "Name: Item_Fat_Content, dtype: int64"
      ]
     },
     "execution_count": 49,
     "metadata": {},
     "output_type": "execute_result"
    }
   ],
   "source": [
    "df['Item_Fat_Content'].loc[df['Item_Type']=='Others'].value_counts()"
   ]
  },
  {
   "cell_type": "code",
   "execution_count": 50,
   "metadata": {
    "colab": {
     "base_uri": "https://localhost:8080/"
    },
    "executionInfo": {
     "elapsed": 929,
     "status": "ok",
     "timestamp": 1659180052582,
     "user": {
      "displayName": "Amal VN",
      "userId": "06605838277080622472"
     },
     "user_tz": -330
    },
    "id": "iLmLU41-Z5_G",
    "outputId": "f0654acf-ad03-4270-8e23-848f5d32ca5b"
   },
   "outputs": [
    {
     "data": {
      "text/plain": [
       "0       0.080019\n",
       "1       0.052212\n",
       "2       0.049865\n",
       "3       0.144550\n",
       "4       0.106770\n",
       "          ...   \n",
       "8518    0.140795\n",
       "8519    0.076030\n",
       "8520    0.061011\n",
       "8521    0.140795\n",
       "8522    0.052212\n",
       "Name: Item_Type_freq, Length: 8523, dtype: float64"
      ]
     },
     "execution_count": 50,
     "metadata": {},
     "output_type": "execute_result"
    }
   ],
   "source": [
    "fq = df.groupby('Item_Type').size()/len(df)\n",
    "df['Item_Type_freq'] = df['Item_Type'].map(fq)\n",
    "df['Item_Type_freq']"
   ]
  },
  {
   "cell_type": "code",
   "execution_count": 51,
   "metadata": {
    "colab": {
     "base_uri": "https://localhost:8080/",
     "height": 357
    },
    "executionInfo": {
     "elapsed": 922,
     "status": "ok",
     "timestamp": 1659180052596,
     "user": {
      "displayName": "Amal VN",
      "userId": "06605838277080622472"
     },
     "user_tz": -330
    },
    "id": "Nzyi5MdvbZNy",
    "outputId": "4639e6d2-9f5d-4818-b519-c8402bf874b1"
   },
   "outputs": [
    {
     "data": {
      "text/html": [
       "<div>\n",
       "<style scoped>\n",
       "    .dataframe tbody tr th:only-of-type {\n",
       "        vertical-align: middle;\n",
       "    }\n",
       "\n",
       "    .dataframe tbody tr th {\n",
       "        vertical-align: top;\n",
       "    }\n",
       "\n",
       "    .dataframe thead th {\n",
       "        text-align: right;\n",
       "    }\n",
       "</style>\n",
       "<table border=\"1\" class=\"dataframe\">\n",
       "  <thead>\n",
       "    <tr style=\"text-align: right;\">\n",
       "      <th></th>\n",
       "      <th>Item_Identifier</th>\n",
       "      <th>Item_Weight</th>\n",
       "      <th>Item_Fat_Content</th>\n",
       "      <th>Item_Visibility</th>\n",
       "      <th>Item_Type</th>\n",
       "      <th>Item_MRP</th>\n",
       "      <th>Outlet_Identifier</th>\n",
       "      <th>Outlet_Establishment_Year</th>\n",
       "      <th>Outlet_Size</th>\n",
       "      <th>Outlet_Location_Type</th>\n",
       "      <th>Outlet_Type</th>\n",
       "      <th>Item_Outlet_Sales</th>\n",
       "      <th>Outlet_Age</th>\n",
       "      <th>Item_Type_freq</th>\n",
       "    </tr>\n",
       "  </thead>\n",
       "  <tbody>\n",
       "    <tr>\n",
       "      <th>0</th>\n",
       "      <td>FDA15</td>\n",
       "      <td>9.30</td>\n",
       "      <td>Low Fat</td>\n",
       "      <td>0.016047</td>\n",
       "      <td>Dairy</td>\n",
       "      <td>249.8092</td>\n",
       "      <td>OUT049</td>\n",
       "      <td>1999</td>\n",
       "      <td>Medium</td>\n",
       "      <td>Tier 1</td>\n",
       "      <td>Supermarket Type1</td>\n",
       "      <td>3735.1380</td>\n",
       "      <td>14</td>\n",
       "      <td>0.080019</td>\n",
       "    </tr>\n",
       "    <tr>\n",
       "      <th>1</th>\n",
       "      <td>DRC01</td>\n",
       "      <td>5.92</td>\n",
       "      <td>Regular</td>\n",
       "      <td>0.019278</td>\n",
       "      <td>Soft Drinks</td>\n",
       "      <td>48.2692</td>\n",
       "      <td>OUT018</td>\n",
       "      <td>2009</td>\n",
       "      <td>Medium</td>\n",
       "      <td>Tier 3</td>\n",
       "      <td>Supermarket Type2</td>\n",
       "      <td>443.4228</td>\n",
       "      <td>4</td>\n",
       "      <td>0.052212</td>\n",
       "    </tr>\n",
       "    <tr>\n",
       "      <th>2</th>\n",
       "      <td>FDN15</td>\n",
       "      <td>17.50</td>\n",
       "      <td>Low Fat</td>\n",
       "      <td>0.016760</td>\n",
       "      <td>Meat</td>\n",
       "      <td>141.6180</td>\n",
       "      <td>OUT049</td>\n",
       "      <td>1999</td>\n",
       "      <td>Medium</td>\n",
       "      <td>Tier 1</td>\n",
       "      <td>Supermarket Type1</td>\n",
       "      <td>2097.2700</td>\n",
       "      <td>14</td>\n",
       "      <td>0.049865</td>\n",
       "    </tr>\n",
       "    <tr>\n",
       "      <th>3</th>\n",
       "      <td>FDX07</td>\n",
       "      <td>19.20</td>\n",
       "      <td>Regular</td>\n",
       "      <td>0.053931</td>\n",
       "      <td>Fruits and Vegetables</td>\n",
       "      <td>182.0950</td>\n",
       "      <td>OUT010</td>\n",
       "      <td>1998</td>\n",
       "      <td>Small</td>\n",
       "      <td>Tier 3</td>\n",
       "      <td>Grocery Store</td>\n",
       "      <td>732.3800</td>\n",
       "      <td>15</td>\n",
       "      <td>0.144550</td>\n",
       "    </tr>\n",
       "    <tr>\n",
       "      <th>4</th>\n",
       "      <td>NCD19</td>\n",
       "      <td>8.93</td>\n",
       "      <td>Low Fat</td>\n",
       "      <td>0.053931</td>\n",
       "      <td>Household</td>\n",
       "      <td>53.8614</td>\n",
       "      <td>OUT013</td>\n",
       "      <td>1987</td>\n",
       "      <td>High</td>\n",
       "      <td>Tier 3</td>\n",
       "      <td>Supermarket Type1</td>\n",
       "      <td>994.7052</td>\n",
       "      <td>26</td>\n",
       "      <td>0.106770</td>\n",
       "    </tr>\n",
       "  </tbody>\n",
       "</table>\n",
       "</div>"
      ],
      "text/plain": [
       "  Item_Identifier  Item_Weight Item_Fat_Content  Item_Visibility  \\\n",
       "0           FDA15         9.30          Low Fat         0.016047   \n",
       "1           DRC01         5.92          Regular         0.019278   \n",
       "2           FDN15        17.50          Low Fat         0.016760   \n",
       "3           FDX07        19.20          Regular         0.053931   \n",
       "4           NCD19         8.93          Low Fat         0.053931   \n",
       "\n",
       "               Item_Type  Item_MRP Outlet_Identifier  \\\n",
       "0                  Dairy  249.8092            OUT049   \n",
       "1            Soft Drinks   48.2692            OUT018   \n",
       "2                   Meat  141.6180            OUT049   \n",
       "3  Fruits and Vegetables  182.0950            OUT010   \n",
       "4              Household   53.8614            OUT013   \n",
       "\n",
       "   Outlet_Establishment_Year Outlet_Size Outlet_Location_Type  \\\n",
       "0                       1999      Medium               Tier 1   \n",
       "1                       2009      Medium               Tier 3   \n",
       "2                       1999      Medium               Tier 1   \n",
       "3                       1998       Small               Tier 3   \n",
       "4                       1987        High               Tier 3   \n",
       "\n",
       "         Outlet_Type  Item_Outlet_Sales  Outlet_Age  Item_Type_freq  \n",
       "0  Supermarket Type1          3735.1380          14        0.080019  \n",
       "1  Supermarket Type2           443.4228           4        0.052212  \n",
       "2  Supermarket Type1          2097.2700          14        0.049865  \n",
       "3      Grocery Store           732.3800          15        0.144550  \n",
       "4  Supermarket Type1           994.7052          26        0.106770  "
      ]
     },
     "execution_count": 51,
     "metadata": {},
     "output_type": "execute_result"
    }
   ],
   "source": [
    "df.head()"
   ]
  },
  {
   "cell_type": "markdown",
   "metadata": {
    "id": "NG3fjsf4HsCs"
   },
   "source": [
    "**Changing the fat content of non consumable products to non-edible**"
   ]
  },
  {
   "cell_type": "code",
   "execution_count": 52,
   "metadata": {
    "id": "Kh9sk-Q-be_5"
   },
   "outputs": [],
   "source": [
    "non_edible = ['Household', 'Health and Hygiene']\n",
    "df.loc[df['Item_Type'].isin(non_edible), 'Item_Fat_Content'] = 'Non Edible'"
   ]
  },
  {
   "cell_type": "code",
   "execution_count": 53,
   "metadata": {
    "colab": {
     "base_uri": "https://localhost:8080/"
    },
    "executionInfo": {
     "elapsed": 915,
     "status": "ok",
     "timestamp": 1659180052604,
     "user": {
      "displayName": "Amal VN",
      "userId": "06605838277080622472"
     },
     "user_tz": -330
    },
    "id": "jDQZ3wZ_dN-E",
    "outputId": "7386e041-154d-49ab-ff48-f1395b99ed72"
   },
   "outputs": [
    {
     "data": {
      "text/plain": [
       "4       Non Edible\n",
       "16      Non Edible\n",
       "22      Non Edible\n",
       "25      Non Edible\n",
       "31      Non Edible\n",
       "           ...    \n",
       "8499    Non Edible\n",
       "8500    Non Edible\n",
       "8502    Non Edible\n",
       "8504    Non Edible\n",
       "8520    Non Edible\n",
       "Name: Item_Fat_Content, Length: 1430, dtype: object"
      ]
     },
     "execution_count": 53,
     "metadata": {},
     "output_type": "execute_result"
    }
   ],
   "source": [
    "df.loc[df['Item_Type'].isin(non_edible), 'Item_Fat_Content']"
   ]
  },
  {
   "cell_type": "code",
   "execution_count": 54,
   "metadata": {
    "id": "E805DIdrd2U8"
   },
   "outputs": [],
   "source": [
    "X = df.drop(['Item_Identifier', 'Outlet_Identifier', 'Item_Type', 'Outlet_Establishment_Year', 'Item_Outlet_Sales'], axis=1)\n",
    "y = df['Item_Outlet_Sales']"
   ]
  },
  {
   "cell_type": "markdown",
   "metadata": {
    "id": "LbyTTWw5KAsl"
   },
   "source": [
    "### Encoding"
   ]
  },
  {
   "cell_type": "markdown",
   "metadata": {
    "id": "MJq3BCXgKEmz"
   },
   "source": [
    "Using ordinal encoder to encode Outlet size since it has an order."
   ]
  },
  {
   "cell_type": "code",
   "execution_count": 55,
   "metadata": {
    "id": "TUIetplSf7mD"
   },
   "outputs": [],
   "source": [
    "ordinal = OrdinalEncoder()"
   ]
  },
  {
   "cell_type": "code",
   "execution_count": 56,
   "metadata": {
    "id": "7Ui8Us_Mf8U0"
   },
   "outputs": [],
   "source": [
    "X['Outlet_Size'] = ordinal.fit_transform(X[['Outlet_Size']])"
   ]
  },
  {
   "cell_type": "code",
   "execution_count": 57,
   "metadata": {
    "colab": {
     "base_uri": "https://localhost:8080/",
     "height": 187
    },
    "executionInfo": {
     "elapsed": 880,
     "status": "ok",
     "timestamp": 1659180052619,
     "user": {
      "displayName": "Amal VN",
      "userId": "06605838277080622472"
     },
     "user_tz": -330
    },
    "id": "AJ6yeeMwgXOb",
    "outputId": "a46edb88-56f6-480f-df2c-50a562f25b15"
   },
   "outputs": [
    {
     "data": {
      "text/html": [
       "<div>\n",
       "<style scoped>\n",
       "    .dataframe tbody tr th:only-of-type {\n",
       "        vertical-align: middle;\n",
       "    }\n",
       "\n",
       "    .dataframe tbody tr th {\n",
       "        vertical-align: top;\n",
       "    }\n",
       "\n",
       "    .dataframe thead th {\n",
       "        text-align: right;\n",
       "    }\n",
       "</style>\n",
       "<table border=\"1\" class=\"dataframe\">\n",
       "  <thead>\n",
       "    <tr style=\"text-align: right;\">\n",
       "      <th></th>\n",
       "      <th>Item_Weight</th>\n",
       "      <th>Item_Fat_Content</th>\n",
       "      <th>Item_Visibility</th>\n",
       "      <th>Item_MRP</th>\n",
       "      <th>Outlet_Size</th>\n",
       "      <th>Outlet_Location_Type</th>\n",
       "      <th>Outlet_Type</th>\n",
       "      <th>Outlet_Age</th>\n",
       "      <th>Item_Type_freq</th>\n",
       "    </tr>\n",
       "  </thead>\n",
       "  <tbody>\n",
       "    <tr>\n",
       "      <th>0</th>\n",
       "      <td>9.30</td>\n",
       "      <td>Low Fat</td>\n",
       "      <td>0.016047</td>\n",
       "      <td>249.8092</td>\n",
       "      <td>1.0</td>\n",
       "      <td>Tier 1</td>\n",
       "      <td>Supermarket Type1</td>\n",
       "      <td>14</td>\n",
       "      <td>0.080019</td>\n",
       "    </tr>\n",
       "    <tr>\n",
       "      <th>1</th>\n",
       "      <td>5.92</td>\n",
       "      <td>Regular</td>\n",
       "      <td>0.019278</td>\n",
       "      <td>48.2692</td>\n",
       "      <td>1.0</td>\n",
       "      <td>Tier 3</td>\n",
       "      <td>Supermarket Type2</td>\n",
       "      <td>4</td>\n",
       "      <td>0.052212</td>\n",
       "    </tr>\n",
       "    <tr>\n",
       "      <th>2</th>\n",
       "      <td>17.50</td>\n",
       "      <td>Low Fat</td>\n",
       "      <td>0.016760</td>\n",
       "      <td>141.6180</td>\n",
       "      <td>1.0</td>\n",
       "      <td>Tier 1</td>\n",
       "      <td>Supermarket Type1</td>\n",
       "      <td>14</td>\n",
       "      <td>0.049865</td>\n",
       "    </tr>\n",
       "  </tbody>\n",
       "</table>\n",
       "</div>"
      ],
      "text/plain": [
       "   Item_Weight Item_Fat_Content  Item_Visibility  Item_MRP  Outlet_Size  \\\n",
       "0         9.30          Low Fat         0.016047  249.8092          1.0   \n",
       "1         5.92          Regular         0.019278   48.2692          1.0   \n",
       "2        17.50          Low Fat         0.016760  141.6180          1.0   \n",
       "\n",
       "  Outlet_Location_Type        Outlet_Type  Outlet_Age  Item_Type_freq  \n",
       "0               Tier 1  Supermarket Type1          14        0.080019  \n",
       "1               Tier 3  Supermarket Type2           4        0.052212  \n",
       "2               Tier 1  Supermarket Type1          14        0.049865  "
      ]
     },
     "execution_count": 57,
     "metadata": {},
     "output_type": "execute_result"
    }
   ],
   "source": [
    "X.head(3)"
   ]
  },
  {
   "cell_type": "markdown",
   "metadata": {
    "id": "zj6G-JpTKMw_"
   },
   "source": [
    "Dummy Encoding the rest of the columns"
   ]
  },
  {
   "cell_type": "code",
   "execution_count": 58,
   "metadata": {
    "id": "8syEAQkIgnIo"
   },
   "outputs": [],
   "source": [
    "X = pd.get_dummies(columns=['Item_Fat_Content', 'Outlet_Location_Type', 'Outlet_Type'], data=X, drop_first=True)"
   ]
  },
  {
   "cell_type": "code",
   "execution_count": 59,
   "metadata": {
    "colab": {
     "base_uri": "https://localhost:8080/",
     "height": 225
    },
    "executionInfo": {
     "elapsed": 869,
     "status": "ok",
     "timestamp": 1659180052625,
     "user": {
      "displayName": "Amal VN",
      "userId": "06605838277080622472"
     },
     "user_tz": -330
    },
    "id": "OD7ZIyqBhDsy",
    "outputId": "a7ee187e-0f49-46b3-ab8d-3e1b7e2c351a"
   },
   "outputs": [
    {
     "data": {
      "text/html": [
       "<div>\n",
       "<style scoped>\n",
       "    .dataframe tbody tr th:only-of-type {\n",
       "        vertical-align: middle;\n",
       "    }\n",
       "\n",
       "    .dataframe tbody tr th {\n",
       "        vertical-align: top;\n",
       "    }\n",
       "\n",
       "    .dataframe thead th {\n",
       "        text-align: right;\n",
       "    }\n",
       "</style>\n",
       "<table border=\"1\" class=\"dataframe\">\n",
       "  <thead>\n",
       "    <tr style=\"text-align: right;\">\n",
       "      <th></th>\n",
       "      <th>Item_Weight</th>\n",
       "      <th>Item_Visibility</th>\n",
       "      <th>Item_MRP</th>\n",
       "      <th>Outlet_Size</th>\n",
       "      <th>Outlet_Age</th>\n",
       "      <th>Item_Type_freq</th>\n",
       "      <th>Item_Fat_Content_Non Edible</th>\n",
       "      <th>Item_Fat_Content_Regular</th>\n",
       "      <th>Outlet_Location_Type_Tier 2</th>\n",
       "      <th>Outlet_Location_Type_Tier 3</th>\n",
       "      <th>Outlet_Type_Supermarket Type1</th>\n",
       "      <th>Outlet_Type_Supermarket Type2</th>\n",
       "      <th>Outlet_Type_Supermarket Type3</th>\n",
       "    </tr>\n",
       "  </thead>\n",
       "  <tbody>\n",
       "    <tr>\n",
       "      <th>0</th>\n",
       "      <td>9.30</td>\n",
       "      <td>0.016047</td>\n",
       "      <td>249.8092</td>\n",
       "      <td>1.0</td>\n",
       "      <td>14</td>\n",
       "      <td>0.080019</td>\n",
       "      <td>0</td>\n",
       "      <td>0</td>\n",
       "      <td>0</td>\n",
       "      <td>0</td>\n",
       "      <td>1</td>\n",
       "      <td>0</td>\n",
       "      <td>0</td>\n",
       "    </tr>\n",
       "    <tr>\n",
       "      <th>1</th>\n",
       "      <td>5.92</td>\n",
       "      <td>0.019278</td>\n",
       "      <td>48.2692</td>\n",
       "      <td>1.0</td>\n",
       "      <td>4</td>\n",
       "      <td>0.052212</td>\n",
       "      <td>0</td>\n",
       "      <td>1</td>\n",
       "      <td>0</td>\n",
       "      <td>1</td>\n",
       "      <td>0</td>\n",
       "      <td>1</td>\n",
       "      <td>0</td>\n",
       "    </tr>\n",
       "    <tr>\n",
       "      <th>2</th>\n",
       "      <td>17.50</td>\n",
       "      <td>0.016760</td>\n",
       "      <td>141.6180</td>\n",
       "      <td>1.0</td>\n",
       "      <td>14</td>\n",
       "      <td>0.049865</td>\n",
       "      <td>0</td>\n",
       "      <td>0</td>\n",
       "      <td>0</td>\n",
       "      <td>0</td>\n",
       "      <td>1</td>\n",
       "      <td>0</td>\n",
       "      <td>0</td>\n",
       "    </tr>\n",
       "  </tbody>\n",
       "</table>\n",
       "</div>"
      ],
      "text/plain": [
       "   Item_Weight  Item_Visibility  Item_MRP  Outlet_Size  Outlet_Age  \\\n",
       "0         9.30         0.016047  249.8092          1.0          14   \n",
       "1         5.92         0.019278   48.2692          1.0           4   \n",
       "2        17.50         0.016760  141.6180          1.0          14   \n",
       "\n",
       "   Item_Type_freq  Item_Fat_Content_Non Edible  Item_Fat_Content_Regular  \\\n",
       "0        0.080019                            0                         0   \n",
       "1        0.052212                            0                         1   \n",
       "2        0.049865                            0                         0   \n",
       "\n",
       "   Outlet_Location_Type_Tier 2  Outlet_Location_Type_Tier 3  \\\n",
       "0                            0                            0   \n",
       "1                            0                            1   \n",
       "2                            0                            0   \n",
       "\n",
       "   Outlet_Type_Supermarket Type1  Outlet_Type_Supermarket Type2  \\\n",
       "0                              1                              0   \n",
       "1                              0                              1   \n",
       "2                              1                              0   \n",
       "\n",
       "   Outlet_Type_Supermarket Type3  \n",
       "0                              0  \n",
       "1                              0  \n",
       "2                              0  "
      ]
     },
     "execution_count": 59,
     "metadata": {},
     "output_type": "execute_result"
    }
   ],
   "source": [
    "X.head(3)"
   ]
  },
  {
   "cell_type": "markdown",
   "metadata": {
    "id": "lzpIzuMqKQz2"
   },
   "source": [
    "### Scaling"
   ]
  },
  {
   "cell_type": "markdown",
   "metadata": {
    "id": "5EB0-eEgKTLt"
   },
   "source": [
    "We are only scaling the Item MRP column to see what the result would be."
   ]
  },
  {
   "cell_type": "code",
   "execution_count": 60,
   "metadata": {
    "id": "OzZbEqinhaFq"
   },
   "outputs": [],
   "source": [
    "scale = StandardScaler()\n",
    "mrp_scale = scale.fit(X[['Item_MRP']])\n",
    "X['Item_MRP'] = mrp_scale.transform(X[['Item_MRP']])"
   ]
  },
  {
   "cell_type": "code",
   "execution_count": 61,
   "metadata": {
    "colab": {
     "base_uri": "https://localhost:8080/",
     "height": 288
    },
    "executionInfo": {
     "elapsed": 859,
     "status": "ok",
     "timestamp": 1659180052632,
     "user": {
      "displayName": "Amal VN",
      "userId": "06605838277080622472"
     },
     "user_tz": -330
    },
    "id": "jcxLw1-vilXX",
    "outputId": "e536c5d7-d240-47e6-eb60-3d87b27d036c"
   },
   "outputs": [
    {
     "data": {
      "text/html": [
       "<div>\n",
       "<style scoped>\n",
       "    .dataframe tbody tr th:only-of-type {\n",
       "        vertical-align: middle;\n",
       "    }\n",
       "\n",
       "    .dataframe tbody tr th {\n",
       "        vertical-align: top;\n",
       "    }\n",
       "\n",
       "    .dataframe thead th {\n",
       "        text-align: right;\n",
       "    }\n",
       "</style>\n",
       "<table border=\"1\" class=\"dataframe\">\n",
       "  <thead>\n",
       "    <tr style=\"text-align: right;\">\n",
       "      <th></th>\n",
       "      <th>Item_Weight</th>\n",
       "      <th>Item_Visibility</th>\n",
       "      <th>Item_MRP</th>\n",
       "      <th>Outlet_Size</th>\n",
       "      <th>Outlet_Age</th>\n",
       "      <th>Item_Type_freq</th>\n",
       "      <th>Item_Fat_Content_Non Edible</th>\n",
       "      <th>Item_Fat_Content_Regular</th>\n",
       "      <th>Outlet_Location_Type_Tier 2</th>\n",
       "      <th>Outlet_Location_Type_Tier 3</th>\n",
       "      <th>Outlet_Type_Supermarket Type1</th>\n",
       "      <th>Outlet_Type_Supermarket Type2</th>\n",
       "      <th>Outlet_Type_Supermarket Type3</th>\n",
       "    </tr>\n",
       "  </thead>\n",
       "  <tbody>\n",
       "    <tr>\n",
       "      <th>0</th>\n",
       "      <td>9.30</td>\n",
       "      <td>0.016047</td>\n",
       "      <td>1.747454</td>\n",
       "      <td>1.0</td>\n",
       "      <td>14</td>\n",
       "      <td>0.080019</td>\n",
       "      <td>0</td>\n",
       "      <td>0</td>\n",
       "      <td>0</td>\n",
       "      <td>0</td>\n",
       "      <td>1</td>\n",
       "      <td>0</td>\n",
       "      <td>0</td>\n",
       "    </tr>\n",
       "    <tr>\n",
       "      <th>1</th>\n",
       "      <td>5.92</td>\n",
       "      <td>0.019278</td>\n",
       "      <td>-1.489023</td>\n",
       "      <td>1.0</td>\n",
       "      <td>4</td>\n",
       "      <td>0.052212</td>\n",
       "      <td>0</td>\n",
       "      <td>1</td>\n",
       "      <td>0</td>\n",
       "      <td>1</td>\n",
       "      <td>0</td>\n",
       "      <td>1</td>\n",
       "      <td>0</td>\n",
       "    </tr>\n",
       "    <tr>\n",
       "      <th>2</th>\n",
       "      <td>17.50</td>\n",
       "      <td>0.016760</td>\n",
       "      <td>0.010040</td>\n",
       "      <td>1.0</td>\n",
       "      <td>14</td>\n",
       "      <td>0.049865</td>\n",
       "      <td>0</td>\n",
       "      <td>0</td>\n",
       "      <td>0</td>\n",
       "      <td>0</td>\n",
       "      <td>1</td>\n",
       "      <td>0</td>\n",
       "      <td>0</td>\n",
       "    </tr>\n",
       "    <tr>\n",
       "      <th>3</th>\n",
       "      <td>19.20</td>\n",
       "      <td>0.053931</td>\n",
       "      <td>0.660050</td>\n",
       "      <td>2.0</td>\n",
       "      <td>15</td>\n",
       "      <td>0.144550</td>\n",
       "      <td>0</td>\n",
       "      <td>1</td>\n",
       "      <td>0</td>\n",
       "      <td>1</td>\n",
       "      <td>0</td>\n",
       "      <td>0</td>\n",
       "      <td>0</td>\n",
       "    </tr>\n",
       "    <tr>\n",
       "      <th>4</th>\n",
       "      <td>8.93</td>\n",
       "      <td>0.053931</td>\n",
       "      <td>-1.399220</td>\n",
       "      <td>0.0</td>\n",
       "      <td>26</td>\n",
       "      <td>0.106770</td>\n",
       "      <td>1</td>\n",
       "      <td>0</td>\n",
       "      <td>0</td>\n",
       "      <td>1</td>\n",
       "      <td>1</td>\n",
       "      <td>0</td>\n",
       "      <td>0</td>\n",
       "    </tr>\n",
       "  </tbody>\n",
       "</table>\n",
       "</div>"
      ],
      "text/plain": [
       "   Item_Weight  Item_Visibility  Item_MRP  Outlet_Size  Outlet_Age  \\\n",
       "0         9.30         0.016047  1.747454          1.0          14   \n",
       "1         5.92         0.019278 -1.489023          1.0           4   \n",
       "2        17.50         0.016760  0.010040          1.0          14   \n",
       "3        19.20         0.053931  0.660050          2.0          15   \n",
       "4         8.93         0.053931 -1.399220          0.0          26   \n",
       "\n",
       "   Item_Type_freq  Item_Fat_Content_Non Edible  Item_Fat_Content_Regular  \\\n",
       "0        0.080019                            0                         0   \n",
       "1        0.052212                            0                         1   \n",
       "2        0.049865                            0                         0   \n",
       "3        0.144550                            0                         1   \n",
       "4        0.106770                            1                         0   \n",
       "\n",
       "   Outlet_Location_Type_Tier 2  Outlet_Location_Type_Tier 3  \\\n",
       "0                            0                            0   \n",
       "1                            0                            1   \n",
       "2                            0                            0   \n",
       "3                            0                            1   \n",
       "4                            0                            1   \n",
       "\n",
       "   Outlet_Type_Supermarket Type1  Outlet_Type_Supermarket Type2  \\\n",
       "0                              1                              0   \n",
       "1                              0                              1   \n",
       "2                              1                              0   \n",
       "3                              0                              0   \n",
       "4                              1                              0   \n",
       "\n",
       "   Outlet_Type_Supermarket Type3  \n",
       "0                              0  \n",
       "1                              0  \n",
       "2                              0  \n",
       "3                              0  \n",
       "4                              0  "
      ]
     },
     "execution_count": 61,
     "metadata": {},
     "output_type": "execute_result"
    }
   ],
   "source": [
    "X.head()"
   ]
  },
  {
   "cell_type": "markdown",
   "metadata": {
    "id": "qJlCIlKtjuy-"
   },
   "source": [
    "### Handling Test Data"
   ]
  },
  {
   "cell_type": "markdown",
   "metadata": {
    "id": "X-3fgPekK3r_"
   },
   "source": [
    "Applying similar steps on test data."
   ]
  },
  {
   "cell_type": "code",
   "execution_count": 62,
   "metadata": {
    "colab": {
     "base_uri": "https://localhost:8080/",
     "height": 300
    },
    "executionInfo": {
     "elapsed": 853,
     "status": "ok",
     "timestamp": 1659180052636,
     "user": {
      "displayName": "Amal VN",
      "userId": "06605838277080622472"
     },
     "user_tz": -330
    },
    "id": "a2L_u5-7j2EL",
    "outputId": "00cdb922-5961-4223-d3dc-6fab052c3999"
   },
   "outputs": [
    {
     "data": {
      "text/html": [
       "<div>\n",
       "<style scoped>\n",
       "    .dataframe tbody tr th:only-of-type {\n",
       "        vertical-align: middle;\n",
       "    }\n",
       "\n",
       "    .dataframe tbody tr th {\n",
       "        vertical-align: top;\n",
       "    }\n",
       "\n",
       "    .dataframe thead th {\n",
       "        text-align: right;\n",
       "    }\n",
       "</style>\n",
       "<table border=\"1\" class=\"dataframe\">\n",
       "  <thead>\n",
       "    <tr style=\"text-align: right;\">\n",
       "      <th></th>\n",
       "      <th>Item_Weight</th>\n",
       "      <th>Item_Visibility</th>\n",
       "      <th>Item_MRP</th>\n",
       "      <th>Outlet_Establishment_Year</th>\n",
       "    </tr>\n",
       "  </thead>\n",
       "  <tbody>\n",
       "    <tr>\n",
       "      <th>count</th>\n",
       "      <td>4705.000000</td>\n",
       "      <td>5681.000000</td>\n",
       "      <td>5681.000000</td>\n",
       "      <td>5681.000000</td>\n",
       "    </tr>\n",
       "    <tr>\n",
       "      <th>mean</th>\n",
       "      <td>12.695633</td>\n",
       "      <td>0.065684</td>\n",
       "      <td>141.023273</td>\n",
       "      <td>1997.828903</td>\n",
       "    </tr>\n",
       "    <tr>\n",
       "      <th>std</th>\n",
       "      <td>4.664849</td>\n",
       "      <td>0.051252</td>\n",
       "      <td>61.809091</td>\n",
       "      <td>8.372256</td>\n",
       "    </tr>\n",
       "    <tr>\n",
       "      <th>min</th>\n",
       "      <td>4.555000</td>\n",
       "      <td>0.000000</td>\n",
       "      <td>31.990000</td>\n",
       "      <td>1985.000000</td>\n",
       "    </tr>\n",
       "    <tr>\n",
       "      <th>25%</th>\n",
       "      <td>8.645000</td>\n",
       "      <td>0.027047</td>\n",
       "      <td>94.412000</td>\n",
       "      <td>1987.000000</td>\n",
       "    </tr>\n",
       "    <tr>\n",
       "      <th>50%</th>\n",
       "      <td>12.500000</td>\n",
       "      <td>0.054154</td>\n",
       "      <td>141.415400</td>\n",
       "      <td>1999.000000</td>\n",
       "    </tr>\n",
       "    <tr>\n",
       "      <th>75%</th>\n",
       "      <td>16.700000</td>\n",
       "      <td>0.093463</td>\n",
       "      <td>186.026600</td>\n",
       "      <td>2004.000000</td>\n",
       "    </tr>\n",
       "    <tr>\n",
       "      <th>max</th>\n",
       "      <td>21.350000</td>\n",
       "      <td>0.323637</td>\n",
       "      <td>266.588400</td>\n",
       "      <td>2009.000000</td>\n",
       "    </tr>\n",
       "  </tbody>\n",
       "</table>\n",
       "</div>"
      ],
      "text/plain": [
       "       Item_Weight  Item_Visibility     Item_MRP  Outlet_Establishment_Year\n",
       "count  4705.000000      5681.000000  5681.000000                5681.000000\n",
       "mean     12.695633         0.065684   141.023273                1997.828903\n",
       "std       4.664849         0.051252    61.809091                   8.372256\n",
       "min       4.555000         0.000000    31.990000                1985.000000\n",
       "25%       8.645000         0.027047    94.412000                1987.000000\n",
       "50%      12.500000         0.054154   141.415400                1999.000000\n",
       "75%      16.700000         0.093463   186.026600                2004.000000\n",
       "max      21.350000         0.323637   266.588400                2009.000000"
      ]
     },
     "execution_count": 62,
     "metadata": {},
     "output_type": "execute_result"
    }
   ],
   "source": [
    "test.describe()"
   ]
  },
  {
   "cell_type": "code",
   "execution_count": 63,
   "metadata": {
    "colab": {
     "base_uri": "https://localhost:8080/",
     "height": 175
    },
    "executionInfo": {
     "elapsed": 848,
     "status": "ok",
     "timestamp": 1659180052640,
     "user": {
      "displayName": "Amal VN",
      "userId": "06605838277080622472"
     },
     "user_tz": -330
    },
    "id": "qMrl391Kj124",
    "outputId": "3edce99f-fe72-4822-fd3a-e86dcae293fd"
   },
   "outputs": [
    {
     "data": {
      "text/html": [
       "<div>\n",
       "<style scoped>\n",
       "    .dataframe tbody tr th:only-of-type {\n",
       "        vertical-align: middle;\n",
       "    }\n",
       "\n",
       "    .dataframe tbody tr th {\n",
       "        vertical-align: top;\n",
       "    }\n",
       "\n",
       "    .dataframe thead th {\n",
       "        text-align: right;\n",
       "    }\n",
       "</style>\n",
       "<table border=\"1\" class=\"dataframe\">\n",
       "  <thead>\n",
       "    <tr style=\"text-align: right;\">\n",
       "      <th></th>\n",
       "      <th>Item_Identifier</th>\n",
       "      <th>Item_Fat_Content</th>\n",
       "      <th>Item_Type</th>\n",
       "      <th>Outlet_Identifier</th>\n",
       "      <th>Outlet_Size</th>\n",
       "      <th>Outlet_Location_Type</th>\n",
       "      <th>Outlet_Type</th>\n",
       "    </tr>\n",
       "  </thead>\n",
       "  <tbody>\n",
       "    <tr>\n",
       "      <th>count</th>\n",
       "      <td>5681</td>\n",
       "      <td>5681</td>\n",
       "      <td>5681</td>\n",
       "      <td>5681</td>\n",
       "      <td>4075</td>\n",
       "      <td>5681</td>\n",
       "      <td>5681</td>\n",
       "    </tr>\n",
       "    <tr>\n",
       "      <th>unique</th>\n",
       "      <td>1543</td>\n",
       "      <td>5</td>\n",
       "      <td>16</td>\n",
       "      <td>10</td>\n",
       "      <td>3</td>\n",
       "      <td>3</td>\n",
       "      <td>4</td>\n",
       "    </tr>\n",
       "    <tr>\n",
       "      <th>top</th>\n",
       "      <td>DRF48</td>\n",
       "      <td>Low Fat</td>\n",
       "      <td>Snack Foods</td>\n",
       "      <td>OUT027</td>\n",
       "      <td>Medium</td>\n",
       "      <td>Tier 3</td>\n",
       "      <td>Supermarket Type1</td>\n",
       "    </tr>\n",
       "    <tr>\n",
       "      <th>freq</th>\n",
       "      <td>8</td>\n",
       "      <td>3396</td>\n",
       "      <td>789</td>\n",
       "      <td>624</td>\n",
       "      <td>1862</td>\n",
       "      <td>2233</td>\n",
       "      <td>3717</td>\n",
       "    </tr>\n",
       "  </tbody>\n",
       "</table>\n",
       "</div>"
      ],
      "text/plain": [
       "       Item_Identifier Item_Fat_Content    Item_Type Outlet_Identifier  \\\n",
       "count             5681             5681         5681              5681   \n",
       "unique            1543                5           16                10   \n",
       "top              DRF48          Low Fat  Snack Foods            OUT027   \n",
       "freq                 8             3396          789               624   \n",
       "\n",
       "       Outlet_Size Outlet_Location_Type        Outlet_Type  \n",
       "count         4075                 5681               5681  \n",
       "unique           3                    3                  4  \n",
       "top         Medium               Tier 3  Supermarket Type1  \n",
       "freq          1862                 2233               3717  "
      ]
     },
     "execution_count": 63,
     "metadata": {},
     "output_type": "execute_result"
    }
   ],
   "source": [
    "test.describe(exclude=np.number)"
   ]
  },
  {
   "cell_type": "code",
   "execution_count": 64,
   "metadata": {
    "colab": {
     "base_uri": "https://localhost:8080/"
    },
    "executionInfo": {
     "elapsed": 844,
     "status": "ok",
     "timestamp": 1659180052645,
     "user": {
      "displayName": "Amal VN",
      "userId": "06605838277080622472"
     },
     "user_tz": -330
    },
    "id": "LAAT8DT3ixFo",
    "outputId": "ca7fcef8-f362-4bb9-b69b-a941f0eca02f"
   },
   "outputs": [
    {
     "data": {
      "text/plain": [
       "Item_Identifier                 0\n",
       "Item_Weight                   976\n",
       "Item_Fat_Content                0\n",
       "Item_Visibility                 0\n",
       "Item_Type                       0\n",
       "Item_MRP                        0\n",
       "Outlet_Identifier               0\n",
       "Outlet_Establishment_Year       0\n",
       "Outlet_Size                  1606\n",
       "Outlet_Location_Type            0\n",
       "Outlet_Type                     0\n",
       "dtype: int64"
      ]
     },
     "execution_count": 64,
     "metadata": {},
     "output_type": "execute_result"
    }
   ],
   "source": [
    "test.isnull().sum()"
   ]
  },
  {
   "cell_type": "code",
   "execution_count": 65,
   "metadata": {
    "id": "hvT6j736jT9-"
   },
   "outputs": [],
   "source": [
    "test['Item_Weight'] = test['Item_Weight'].fillna(df.groupby('Item_Type')['Item_Weight'].transform('median'))"
   ]
  },
  {
   "cell_type": "code",
   "execution_count": 66,
   "metadata": {
    "colab": {
     "base_uri": "https://localhost:8080/"
    },
    "executionInfo": {
     "elapsed": 821,
     "status": "ok",
     "timestamp": 1659180052652,
     "user": {
      "displayName": "Amal VN",
      "userId": "06605838277080622472"
     },
     "user_tz": -330
    },
    "id": "UHzaFfpJ6b2P",
    "outputId": "a0c96d04-37c5-401c-e5dc-7d7c155596dc"
   },
   "outputs": [
    {
     "data": {
      "text/plain": [
       "Item_Identifier                 0\n",
       "Item_Weight                     0\n",
       "Item_Fat_Content                0\n",
       "Item_Visibility                 0\n",
       "Item_Type                       0\n",
       "Item_MRP                        0\n",
       "Outlet_Identifier               0\n",
       "Outlet_Establishment_Year       0\n",
       "Outlet_Size                  1606\n",
       "Outlet_Location_Type            0\n",
       "Outlet_Type                     0\n",
       "dtype: int64"
      ]
     },
     "execution_count": 66,
     "metadata": {},
     "output_type": "execute_result"
    }
   ],
   "source": [
    "test.isnull().sum()"
   ]
  },
  {
   "cell_type": "code",
   "execution_count": 67,
   "metadata": {
    "id": "wvYcfMXy6fPR"
   },
   "outputs": [],
   "source": [
    "f = lambda x: x.mode().iloc[0]\n",
    "test['Outlet_Size'] = test['Outlet_Size'].fillna(df.groupby('Outlet_Type')['Outlet_Size'].transform(f))"
   ]
  },
  {
   "cell_type": "code",
   "execution_count": 68,
   "metadata": {
    "colab": {
     "base_uri": "https://localhost:8080/"
    },
    "executionInfo": {
     "elapsed": 805,
     "status": "ok",
     "timestamp": 1659180052657,
     "user": {
      "displayName": "Amal VN",
      "userId": "06605838277080622472"
     },
     "user_tz": -330
    },
    "id": "axDcTIlM7wCK",
    "outputId": "00079db4-a0be-47b0-97b0-14bd39e50c4d"
   },
   "outputs": [
    {
     "data": {
      "text/plain": [
       "Item_Identifier              0\n",
       "Item_Weight                  0\n",
       "Item_Fat_Content             0\n",
       "Item_Visibility              0\n",
       "Item_Type                    0\n",
       "Item_MRP                     0\n",
       "Outlet_Identifier            0\n",
       "Outlet_Establishment_Year    0\n",
       "Outlet_Size                  0\n",
       "Outlet_Location_Type         0\n",
       "Outlet_Type                  0\n",
       "dtype: int64"
      ]
     },
     "execution_count": 68,
     "metadata": {},
     "output_type": "execute_result"
    }
   ],
   "source": [
    "test.isnull().sum()"
   ]
  },
  {
   "cell_type": "code",
   "execution_count": 69,
   "metadata": {
    "id": "fKhsK_C_7yZO"
   },
   "outputs": [],
   "source": [
    "test['Item_Fat_Content'].replace({'LF': 'Low Fat', 'reg': 'Regular', 'low fat': 'Low Fat'}, inplace=True)\n",
    "non_edible = ['Household', 'Health and Hygiene']\n",
    "test.loc[df['Item_Type'].isin(non_edible), 'Item_Fat_Content'] = 'Non Edible'"
   ]
  },
  {
   "cell_type": "code",
   "execution_count": 70,
   "metadata": {
    "colab": {
     "base_uri": "https://localhost:8080/"
    },
    "executionInfo": {
     "elapsed": 767,
     "status": "ok",
     "timestamp": 1659180052663,
     "user": {
      "displayName": "Amal VN",
      "userId": "06605838277080622472"
     },
     "user_tz": -330
    },
    "id": "cWs_fmg18u7c",
    "outputId": "b314f74b-072c-4f69-b66e-e51a507f2f5f"
   },
   "outputs": [
    {
     "data": {
      "text/plain": [
       "Low Fat       3098\n",
       "Regular       1664\n",
       "Non Edible     919\n",
       "Name: Item_Fat_Content, dtype: int64"
      ]
     },
     "execution_count": 70,
     "metadata": {},
     "output_type": "execute_result"
    }
   ],
   "source": [
    "test['Item_Fat_Content'].value_counts()"
   ]
  },
  {
   "cell_type": "code",
   "execution_count": 71,
   "metadata": {
    "id": "akdrxfwn8zT6"
   },
   "outputs": [],
   "source": [
    "test['Item_Visibility'].replace(0, df['Item_Visibility'].median(), inplace=True)"
   ]
  },
  {
   "cell_type": "code",
   "execution_count": 72,
   "metadata": {
    "id": "osUTbEyt9WHn"
   },
   "outputs": [],
   "source": [
    "test['Outlet_Age'] = 2013 - test['Outlet_Establishment_Year']"
   ]
  },
  {
   "cell_type": "code",
   "execution_count": 73,
   "metadata": {
    "id": "9hv6dUpG972k"
   },
   "outputs": [],
   "source": [
    "test['Item_Type_freq'] = test['Item_Type'].map(fq)"
   ]
  },
  {
   "cell_type": "code",
   "execution_count": 74,
   "metadata": {
    "id": "xDPMKhL5-buA"
   },
   "outputs": [],
   "source": [
    "X_test = test.drop(['Item_Identifier', 'Outlet_Identifier', 'Item_Type', 'Outlet_Establishment_Year'], axis=1)"
   ]
  },
  {
   "cell_type": "code",
   "execution_count": 75,
   "metadata": {
    "id": "DFhjcRH5BKhX"
   },
   "outputs": [],
   "source": [
    "X_test['Outlet_Size'] = ordinal.fit_transform(X_test[['Outlet_Size']])"
   ]
  },
  {
   "cell_type": "code",
   "execution_count": 76,
   "metadata": {
    "colab": {
     "base_uri": "https://localhost:8080/"
    },
    "executionInfo": {
     "elapsed": 712,
     "status": "ok",
     "timestamp": 1659180052682,
     "user": {
      "displayName": "Amal VN",
      "userId": "06605838277080622472"
     },
     "user_tz": -330
    },
    "id": "Xsl79sdNBerL",
    "outputId": "64ca4197-3ac6-449c-cbe0-8089df328f3c"
   },
   "outputs": [
    {
     "data": {
      "text/plain": [
       "2.0    2855\n",
       "1.0    2205\n",
       "0.0     621\n",
       "Name: Outlet_Size, dtype: int64"
      ]
     },
     "execution_count": 76,
     "metadata": {},
     "output_type": "execute_result"
    }
   ],
   "source": [
    "X_test['Outlet_Size'].value_counts()"
   ]
  },
  {
   "cell_type": "code",
   "execution_count": 77,
   "metadata": {
    "colab": {
     "base_uri": "https://localhost:8080/",
     "height": 288
    },
    "executionInfo": {
     "elapsed": 684,
     "status": "ok",
     "timestamp": 1659180052686,
     "user": {
      "displayName": "Amal VN",
      "userId": "06605838277080622472"
     },
     "user_tz": -330
    },
    "id": "69GZ0ao2BeWi",
    "outputId": "9527d104-1067-4c75-871b-1d4f52fb7337"
   },
   "outputs": [
    {
     "data": {
      "text/html": [
       "<div>\n",
       "<style scoped>\n",
       "    .dataframe tbody tr th:only-of-type {\n",
       "        vertical-align: middle;\n",
       "    }\n",
       "\n",
       "    .dataframe tbody tr th {\n",
       "        vertical-align: top;\n",
       "    }\n",
       "\n",
       "    .dataframe thead th {\n",
       "        text-align: right;\n",
       "    }\n",
       "</style>\n",
       "<table border=\"1\" class=\"dataframe\">\n",
       "  <thead>\n",
       "    <tr style=\"text-align: right;\">\n",
       "      <th></th>\n",
       "      <th>Item_Weight</th>\n",
       "      <th>Item_Visibility</th>\n",
       "      <th>Item_MRP</th>\n",
       "      <th>Outlet_Size</th>\n",
       "      <th>Outlet_Age</th>\n",
       "      <th>Item_Type_freq</th>\n",
       "      <th>Item_Fat_Content_Non Edible</th>\n",
       "      <th>Item_Fat_Content_Regular</th>\n",
       "      <th>Outlet_Location_Type_Tier 2</th>\n",
       "      <th>Outlet_Location_Type_Tier 3</th>\n",
       "      <th>Outlet_Type_Supermarket Type1</th>\n",
       "      <th>Outlet_Type_Supermarket Type2</th>\n",
       "      <th>Outlet_Type_Supermarket Type3</th>\n",
       "    </tr>\n",
       "  </thead>\n",
       "  <tbody>\n",
       "    <tr>\n",
       "      <th>0</th>\n",
       "      <td>20.750</td>\n",
       "      <td>0.007565</td>\n",
       "      <td>107.8622</td>\n",
       "      <td>1.0</td>\n",
       "      <td>14</td>\n",
       "      <td>0.140795</td>\n",
       "      <td>0</td>\n",
       "      <td>0</td>\n",
       "      <td>0</td>\n",
       "      <td>0</td>\n",
       "      <td>1</td>\n",
       "      <td>0</td>\n",
       "      <td>0</td>\n",
       "    </tr>\n",
       "    <tr>\n",
       "      <th>1</th>\n",
       "      <td>8.300</td>\n",
       "      <td>0.038428</td>\n",
       "      <td>87.3198</td>\n",
       "      <td>1.0</td>\n",
       "      <td>6</td>\n",
       "      <td>0.080019</td>\n",
       "      <td>0</td>\n",
       "      <td>1</td>\n",
       "      <td>1</td>\n",
       "      <td>0</td>\n",
       "      <td>1</td>\n",
       "      <td>0</td>\n",
       "      <td>0</td>\n",
       "    </tr>\n",
       "    <tr>\n",
       "      <th>2</th>\n",
       "      <td>14.600</td>\n",
       "      <td>0.099575</td>\n",
       "      <td>241.7538</td>\n",
       "      <td>2.0</td>\n",
       "      <td>15</td>\n",
       "      <td>0.019829</td>\n",
       "      <td>0</td>\n",
       "      <td>0</td>\n",
       "      <td>0</td>\n",
       "      <td>1</td>\n",
       "      <td>0</td>\n",
       "      <td>0</td>\n",
       "      <td>0</td>\n",
       "    </tr>\n",
       "    <tr>\n",
       "      <th>3</th>\n",
       "      <td>7.315</td>\n",
       "      <td>0.015388</td>\n",
       "      <td>155.0340</td>\n",
       "      <td>2.0</td>\n",
       "      <td>6</td>\n",
       "      <td>0.140795</td>\n",
       "      <td>0</td>\n",
       "      <td>0</td>\n",
       "      <td>1</td>\n",
       "      <td>0</td>\n",
       "      <td>1</td>\n",
       "      <td>0</td>\n",
       "      <td>0</td>\n",
       "    </tr>\n",
       "    <tr>\n",
       "      <th>4</th>\n",
       "      <td>13.150</td>\n",
       "      <td>0.118599</td>\n",
       "      <td>234.2300</td>\n",
       "      <td>1.0</td>\n",
       "      <td>28</td>\n",
       "      <td>0.080019</td>\n",
       "      <td>1</td>\n",
       "      <td>0</td>\n",
       "      <td>0</td>\n",
       "      <td>1</td>\n",
       "      <td>0</td>\n",
       "      <td>0</td>\n",
       "      <td>1</td>\n",
       "    </tr>\n",
       "  </tbody>\n",
       "</table>\n",
       "</div>"
      ],
      "text/plain": [
       "   Item_Weight  Item_Visibility  Item_MRP  Outlet_Size  Outlet_Age  \\\n",
       "0       20.750         0.007565  107.8622          1.0          14   \n",
       "1        8.300         0.038428   87.3198          1.0           6   \n",
       "2       14.600         0.099575  241.7538          2.0          15   \n",
       "3        7.315         0.015388  155.0340          2.0           6   \n",
       "4       13.150         0.118599  234.2300          1.0          28   \n",
       "\n",
       "   Item_Type_freq  Item_Fat_Content_Non Edible  Item_Fat_Content_Regular  \\\n",
       "0        0.140795                            0                         0   \n",
       "1        0.080019                            0                         1   \n",
       "2        0.019829                            0                         0   \n",
       "3        0.140795                            0                         0   \n",
       "4        0.080019                            1                         0   \n",
       "\n",
       "   Outlet_Location_Type_Tier 2  Outlet_Location_Type_Tier 3  \\\n",
       "0                            0                            0   \n",
       "1                            1                            0   \n",
       "2                            0                            1   \n",
       "3                            1                            0   \n",
       "4                            0                            1   \n",
       "\n",
       "   Outlet_Type_Supermarket Type1  Outlet_Type_Supermarket Type2  \\\n",
       "0                              1                              0   \n",
       "1                              1                              0   \n",
       "2                              0                              0   \n",
       "3                              1                              0   \n",
       "4                              0                              0   \n",
       "\n",
       "   Outlet_Type_Supermarket Type3  \n",
       "0                              0  \n",
       "1                              0  \n",
       "2                              0  \n",
       "3                              0  \n",
       "4                              1  "
      ]
     },
     "execution_count": 77,
     "metadata": {},
     "output_type": "execute_result"
    }
   ],
   "source": [
    "X_test = pd.get_dummies(columns=['Item_Fat_Content', 'Outlet_Location_Type', 'Outlet_Type'], data=X_test, drop_first=True)\n",
    "X_test.head()"
   ]
  },
  {
   "cell_type": "code",
   "execution_count": 78,
   "metadata": {
    "colab": {
     "base_uri": "https://localhost:8080/"
    },
    "executionInfo": {
     "elapsed": 670,
     "status": "ok",
     "timestamp": 1659180052689,
     "user": {
      "displayName": "Amal VN",
      "userId": "06605838277080622472"
     },
     "user_tz": -330
    },
    "id": "x9axrIU0B5LM",
    "outputId": "a1059c06-4ba7-4069-9780-842a3ae9b94e"
   },
   "outputs": [
    {
     "data": {
      "text/plain": [
       "((8523, 13), (5681, 13))"
      ]
     },
     "execution_count": 78,
     "metadata": {},
     "output_type": "execute_result"
    }
   ],
   "source": [
    "X.shape, X_test.shape"
   ]
  },
  {
   "cell_type": "code",
   "execution_count": 79,
   "metadata": {
    "id": "La2fdAlnCAbx"
   },
   "outputs": [],
   "source": [
    "X_test['Item_MRP'] = mrp_scale.transform(X_test[['Item_MRP']])"
   ]
  },
  {
   "cell_type": "markdown",
   "metadata": {
    "id": "8p7HpeMsLFSS"
   },
   "source": [
    "### Model Evaluation"
   ]
  },
  {
   "cell_type": "markdown",
   "metadata": {
    "id": "YqoqXPmZLIxw"
   },
   "source": [
    "A custom function is used to fit and predict Train data and write results into a csv."
   ]
  },
  {
   "cell_type": "code",
   "execution_count": 80,
   "metadata": {
    "id": "wBMdD_GO-_QV"
   },
   "outputs": [],
   "source": [
    "def model_eval(algorithm, predictors, target, test_data, file_name):\n",
    "    algorithm.fit(predictors, target)\n",
    "    y_pred = algorithm.predict(test_data)\n",
    "    sample_['Item_Outlet_Sales'] = y_pred\n",
    "    sample_.to_csv(f'{file_name}.csv', index=False)"
   ]
  },
  {
   "cell_type": "markdown",
   "metadata": {
    "id": "5Ln61B6sLdAx"
   },
   "source": [
    "### 1. Linear Regression"
   ]
  },
  {
   "cell_type": "code",
   "execution_count": 81,
   "metadata": {
    "id": "a3QvEKsLAYjz"
   },
   "outputs": [],
   "source": [
    "lr = LinearRegression()\n",
    "model_eval(lr, X, y, X_test, 'lr_submission')"
   ]
  },
  {
   "cell_type": "markdown",
   "metadata": {
    "id": "vtVAaosHMRcn"
   },
   "source": [
    "Generated negative values. So did not yield result."
   ]
  },
  {
   "cell_type": "markdown",
   "metadata": {
    "id": "AVmgAlfJLhoh"
   },
   "source": [
    "### 2. KNN"
   ]
  },
  {
   "cell_type": "code",
   "execution_count": 82,
   "metadata": {
    "id": "If64y2xvD4g1"
   },
   "outputs": [],
   "source": [
    "knn = KNeighborsRegressor()\n",
    "model_eval(knn, X, y, X_test, 'knn_pred')"
   ]
  },
  {
   "cell_type": "markdown",
   "metadata": {
    "id": "xNtebI5aMbIj"
   },
   "source": [
    "RMSE Score: 1247.63"
   ]
  },
  {
   "cell_type": "markdown",
   "metadata": {
    "id": "CtwXVmSCLmAs"
   },
   "source": [
    "### 3. Decision Tree Regressor"
   ]
  },
  {
   "cell_type": "code",
   "execution_count": 83,
   "metadata": {
    "id": "8yL3JYgfBHZx"
   },
   "outputs": [],
   "source": [
    "dtr = DecisionTreeRegressor()\n",
    "model_eval(dtr, X, y, X_test, 'dtr_pred')"
   ]
  },
  {
   "cell_type": "markdown",
   "metadata": {
    "id": "2424ARbtMjIm"
   },
   "source": [
    "RMSE Score: 1657.97"
   ]
  },
  {
   "cell_type": "markdown",
   "metadata": {
    "id": "k7dSJ0E5LqqY"
   },
   "source": [
    "### 4. RandomForest Regressor"
   ]
  },
  {
   "cell_type": "code",
   "execution_count": 84,
   "metadata": {
    "id": "sCA4uYoMGOUc"
   },
   "outputs": [],
   "source": [
    "rfr = RandomForestRegressor()\n",
    "model_eval(rfr, X, y, X_test, 'rfr_pred')"
   ]
  },
  {
   "cell_type": "markdown",
   "metadata": {
    "id": "vUaIWQUZMu_u"
   },
   "source": [
    "RMSE Score: 1223.49"
   ]
  },
  {
   "cell_type": "markdown",
   "metadata": {
    "id": "nFWv2fgMLvNj"
   },
   "source": [
    "### 5. AdaBoost Regressor"
   ]
  },
  {
   "cell_type": "code",
   "execution_count": 85,
   "metadata": {
    "id": "qs0bRKUtDX2K"
   },
   "outputs": [],
   "source": [
    "abr = AdaBoostRegressor()\n",
    "model_eval(abr, X, y, X_test, 'abr_pred')"
   ]
  },
  {
   "cell_type": "markdown",
   "metadata": {
    "id": "TgAaGwYUM1pB"
   },
   "source": [
    "RMSE Score: 1382.41"
   ]
  },
  {
   "cell_type": "markdown",
   "metadata": {
    "id": "njyXYCGZLzgu"
   },
   "source": [
    "### 6. GradientBoost Regressor"
   ]
  },
  {
   "cell_type": "code",
   "execution_count": 86,
   "metadata": {
    "id": "SiuYjt-nITYN"
   },
   "outputs": [],
   "source": [
    "gbr = GradientBoostingRegressor()\n",
    "model_eval(gbr, X, y, X_test, 'gbr_pred')"
   ]
  },
  {
   "cell_type": "markdown",
   "metadata": {
    "id": "s442R3UUNb6S"
   },
   "source": [
    "Generated Negative Predictions so could not get results"
   ]
  },
  {
   "cell_type": "markdown",
   "metadata": {
    "id": "93xJAVCEL-2l"
   },
   "source": [
    "Since Random forest model gave the best result so far, we are further evaluating it"
   ]
  },
  {
   "cell_type": "markdown",
   "metadata": {
    "id": "cMa4OHTIOAXf"
   },
   "source": [
    "Using random hyperparameters"
   ]
  },
  {
   "cell_type": "code",
   "execution_count": 87,
   "metadata": {
    "id": "vLRXXgeCHU0Y"
   },
   "outputs": [],
   "source": [
    "rfr_2 = RandomForestRegressor(n_estimators=500, max_depth=18, max_features='sqrt', n_jobs=-1)\n",
    "model_eval(rfr_2, X, y, X_test, 'rfr_2_pred')"
   ]
  },
  {
   "cell_type": "markdown",
   "metadata": {
    "id": "cT5C8YRlOIki"
   },
   "source": [
    "RMSE Score improved to 1193.54; the best result yet."
   ]
  },
  {
   "cell_type": "markdown",
   "metadata": {
    "id": "su96bguNOSjA"
   },
   "source": [
    "### Hyperparameter Tuning"
   ]
  },
  {
   "cell_type": "markdown",
   "metadata": {
    "id": "bJtGhcxPOVGx"
   },
   "source": [
    "Initially using randomized search"
   ]
  },
  {
   "cell_type": "code",
   "execution_count": 88,
   "metadata": {
    "colab": {
     "base_uri": "https://localhost:8080/"
    },
    "executionInfo": {
     "elapsed": 13,
     "status": "ok",
     "timestamp": 1659180346304,
     "user": {
      "displayName": "Amal VN",
      "userId": "06605838277080622472"
     },
     "user_tz": -330
    },
    "id": "ZAQKR4fK0kSJ",
    "outputId": "9cf2be5d-615b-440c-a5ea-fd359659fc1b"
   },
   "outputs": [
    {
     "data": {
      "text/plain": [
       "{'bootstrap': True,\n",
       " 'ccp_alpha': 0.0,\n",
       " 'criterion': 'squared_error',\n",
       " 'max_depth': None,\n",
       " 'max_features': 1.0,\n",
       " 'max_leaf_nodes': None,\n",
       " 'max_samples': None,\n",
       " 'min_impurity_decrease': 0.0,\n",
       " 'min_samples_leaf': 1,\n",
       " 'min_samples_split': 2,\n",
       " 'min_weight_fraction_leaf': 0.0,\n",
       " 'n_estimators': 100,\n",
       " 'n_jobs': None,\n",
       " 'oob_score': False,\n",
       " 'random_state': None,\n",
       " 'verbose': 0,\n",
       " 'warm_start': False}"
      ]
     },
     "execution_count": 88,
     "metadata": {},
     "output_type": "execute_result"
    }
   ],
   "source": [
    "rfr = RandomForestRegressor()\n",
    "rfr.get_params()"
   ]
  },
  {
   "cell_type": "code",
   "execution_count": 89,
   "metadata": {
    "id": "qjnUVQKQ4mF5"
   },
   "outputs": [],
   "source": [
    "n_estimators = [int(x) for x in np.linspace(start = 100, stop = 800, num = 10)]\n",
    "\n",
    "max_features = ['auto', 'sqrt']\n",
    "\n",
    "max_depth = [int(x) for x in np.linspace(8, 20, num = 11)]\n",
    "max_depth.append(None)\n",
    "\n",
    "min_samples_split = [2, 5, 8, 10, 15]\n",
    "\n",
    "min_samples_leaf = [1, 2, 4, 5, 6]\n",
    "\n",
    "\n",
    "# Create the random grid\n",
    "random_grid = {'n_estimators': n_estimators,\n",
    "               'max_features': max_features,\n",
    "               'max_depth': max_depth,\n",
    "               'min_samples_split': min_samples_split,\n",
    "               'min_samples_leaf': min_samples_leaf,\n",
    "               }"
   ]
  },
  {
   "cell_type": "code",
   "execution_count": 90,
   "metadata": {
    "colab": {
     "base_uri": "https://localhost:8080/"
    },
    "executionInfo": {
     "elapsed": 1028669,
     "status": "ok",
     "timestamp": 1659182141821,
     "user": {
      "displayName": "Amal VN",
      "userId": "06605838277080622472"
     },
     "user_tz": -330
    },
    "id": "b5yUsQ-X5fbT",
    "outputId": "2904bbf6-bb95-4079-e2c8-21c92836ac0f"
   },
   "outputs": [
    {
     "name": "stdout",
     "output_type": "stream",
     "text": [
      "Fitting 3 folds for each of 100 candidates, totalling 300 fits\n"
     ]
    },
    {
     "name": "stderr",
     "output_type": "stream",
     "text": [
      "D:\\Progrmfilesdownloaded\\Python310\\lib\\site-packages\\sklearn\\ensemble\\_forest.py:416: FutureWarning: `max_features='auto'` has been deprecated in 1.1 and will be removed in 1.3. To keep the past behaviour, explicitly set `max_features=1.0` or remove this parameter as it is also the default value for RandomForestRegressors and ExtraTreesRegressors.\n",
      "  warn(\n"
     ]
    },
    {
     "data": {
      "text/html": [
       "<style>#sk-container-id-1 {color: black;background-color: white;}#sk-container-id-1 pre{padding: 0;}#sk-container-id-1 div.sk-toggleable {background-color: white;}#sk-container-id-1 label.sk-toggleable__label {cursor: pointer;display: block;width: 100%;margin-bottom: 0;padding: 0.3em;box-sizing: border-box;text-align: center;}#sk-container-id-1 label.sk-toggleable__label-arrow:before {content: \"▸\";float: left;margin-right: 0.25em;color: #696969;}#sk-container-id-1 label.sk-toggleable__label-arrow:hover:before {color: black;}#sk-container-id-1 div.sk-estimator:hover label.sk-toggleable__label-arrow:before {color: black;}#sk-container-id-1 div.sk-toggleable__content {max-height: 0;max-width: 0;overflow: hidden;text-align: left;background-color: #f0f8ff;}#sk-container-id-1 div.sk-toggleable__content pre {margin: 0.2em;color: black;border-radius: 0.25em;background-color: #f0f8ff;}#sk-container-id-1 input.sk-toggleable__control:checked~div.sk-toggleable__content {max-height: 200px;max-width: 100%;overflow: auto;}#sk-container-id-1 input.sk-toggleable__control:checked~label.sk-toggleable__label-arrow:before {content: \"▾\";}#sk-container-id-1 div.sk-estimator input.sk-toggleable__control:checked~label.sk-toggleable__label {background-color: #d4ebff;}#sk-container-id-1 div.sk-label input.sk-toggleable__control:checked~label.sk-toggleable__label {background-color: #d4ebff;}#sk-container-id-1 input.sk-hidden--visually {border: 0;clip: rect(1px 1px 1px 1px);clip: rect(1px, 1px, 1px, 1px);height: 1px;margin: -1px;overflow: hidden;padding: 0;position: absolute;width: 1px;}#sk-container-id-1 div.sk-estimator {font-family: monospace;background-color: #f0f8ff;border: 1px dotted black;border-radius: 0.25em;box-sizing: border-box;margin-bottom: 0.5em;}#sk-container-id-1 div.sk-estimator:hover {background-color: #d4ebff;}#sk-container-id-1 div.sk-parallel-item::after {content: \"\";width: 100%;border-bottom: 1px solid gray;flex-grow: 1;}#sk-container-id-1 div.sk-label:hover label.sk-toggleable__label {background-color: #d4ebff;}#sk-container-id-1 div.sk-serial::before {content: \"\";position: absolute;border-left: 1px solid gray;box-sizing: border-box;top: 0;bottom: 0;left: 50%;z-index: 0;}#sk-container-id-1 div.sk-serial {display: flex;flex-direction: column;align-items: center;background-color: white;padding-right: 0.2em;padding-left: 0.2em;position: relative;}#sk-container-id-1 div.sk-item {position: relative;z-index: 1;}#sk-container-id-1 div.sk-parallel {display: flex;align-items: stretch;justify-content: center;background-color: white;position: relative;}#sk-container-id-1 div.sk-item::before, #sk-container-id-1 div.sk-parallel-item::before {content: \"\";position: absolute;border-left: 1px solid gray;box-sizing: border-box;top: 0;bottom: 0;left: 50%;z-index: -1;}#sk-container-id-1 div.sk-parallel-item {display: flex;flex-direction: column;z-index: 1;position: relative;background-color: white;}#sk-container-id-1 div.sk-parallel-item:first-child::after {align-self: flex-end;width: 50%;}#sk-container-id-1 div.sk-parallel-item:last-child::after {align-self: flex-start;width: 50%;}#sk-container-id-1 div.sk-parallel-item:only-child::after {width: 0;}#sk-container-id-1 div.sk-dashed-wrapped {border: 1px dashed gray;margin: 0 0.4em 0.5em 0.4em;box-sizing: border-box;padding-bottom: 0.4em;background-color: white;}#sk-container-id-1 div.sk-label label {font-family: monospace;font-weight: bold;display: inline-block;line-height: 1.2em;}#sk-container-id-1 div.sk-label-container {text-align: center;}#sk-container-id-1 div.sk-container {/* jupyter's `normalize.less` sets `[hidden] { display: none; }` but bootstrap.min.css set `[hidden] { display: none !important; }` so we also need the `!important` here to be able to override the default hidden behavior on the sphinx rendered scikit-learn.org. See: https://github.com/scikit-learn/scikit-learn/issues/21755 */display: inline-block !important;position: relative;}#sk-container-id-1 div.sk-text-repr-fallback {display: none;}</style><div id=\"sk-container-id-1\" class=\"sk-top-container\"><div class=\"sk-text-repr-fallback\"><pre>RandomizedSearchCV(cv=3, estimator=RandomForestRegressor(), n_iter=100,\n",
       "                   n_jobs=-1,\n",
       "                   param_distributions={&#x27;max_depth&#x27;: [8, 9, 10, 11, 12, 14, 15,\n",
       "                                                      16, 17, 18, 20, None],\n",
       "                                        &#x27;max_features&#x27;: [&#x27;auto&#x27;, &#x27;sqrt&#x27;],\n",
       "                                        &#x27;min_samples_leaf&#x27;: [1, 2, 4, 5, 6],\n",
       "                                        &#x27;min_samples_split&#x27;: [2, 5, 8, 10, 15],\n",
       "                                        &#x27;n_estimators&#x27;: [100, 177, 255, 333,\n",
       "                                                         411, 488, 566, 644,\n",
       "                                                         722, 800]},\n",
       "                   random_state=42, verbose=2)</pre><b>In a Jupyter environment, please rerun this cell to show the HTML representation or trust the notebook. <br />On GitHub, the HTML representation is unable to render, please try loading this page with nbviewer.org.</b></div><div class=\"sk-container\" hidden><div class=\"sk-item sk-dashed-wrapped\"><div class=\"sk-label-container\"><div class=\"sk-label sk-toggleable\"><input class=\"sk-toggleable__control sk-hidden--visually\" id=\"sk-estimator-id-1\" type=\"checkbox\" ><label for=\"sk-estimator-id-1\" class=\"sk-toggleable__label sk-toggleable__label-arrow\">RandomizedSearchCV</label><div class=\"sk-toggleable__content\"><pre>RandomizedSearchCV(cv=3, estimator=RandomForestRegressor(), n_iter=100,\n",
       "                   n_jobs=-1,\n",
       "                   param_distributions={&#x27;max_depth&#x27;: [8, 9, 10, 11, 12, 14, 15,\n",
       "                                                      16, 17, 18, 20, None],\n",
       "                                        &#x27;max_features&#x27;: [&#x27;auto&#x27;, &#x27;sqrt&#x27;],\n",
       "                                        &#x27;min_samples_leaf&#x27;: [1, 2, 4, 5, 6],\n",
       "                                        &#x27;min_samples_split&#x27;: [2, 5, 8, 10, 15],\n",
       "                                        &#x27;n_estimators&#x27;: [100, 177, 255, 333,\n",
       "                                                         411, 488, 566, 644,\n",
       "                                                         722, 800]},\n",
       "                   random_state=42, verbose=2)</pre></div></div></div><div class=\"sk-parallel\"><div class=\"sk-parallel-item\"><div class=\"sk-item\"><div class=\"sk-label-container\"><div class=\"sk-label sk-toggleable\"><input class=\"sk-toggleable__control sk-hidden--visually\" id=\"sk-estimator-id-2\" type=\"checkbox\" ><label for=\"sk-estimator-id-2\" class=\"sk-toggleable__label sk-toggleable__label-arrow\">estimator: RandomForestRegressor</label><div class=\"sk-toggleable__content\"><pre>RandomForestRegressor()</pre></div></div></div><div class=\"sk-serial\"><div class=\"sk-item\"><div class=\"sk-estimator sk-toggleable\"><input class=\"sk-toggleable__control sk-hidden--visually\" id=\"sk-estimator-id-3\" type=\"checkbox\" ><label for=\"sk-estimator-id-3\" class=\"sk-toggleable__label sk-toggleable__label-arrow\">RandomForestRegressor</label><div class=\"sk-toggleable__content\"><pre>RandomForestRegressor()</pre></div></div></div></div></div></div></div></div></div></div>"
      ],
      "text/plain": [
       "RandomizedSearchCV(cv=3, estimator=RandomForestRegressor(), n_iter=100,\n",
       "                   n_jobs=-1,\n",
       "                   param_distributions={'max_depth': [8, 9, 10, 11, 12, 14, 15,\n",
       "                                                      16, 17, 18, 20, None],\n",
       "                                        'max_features': ['auto', 'sqrt'],\n",
       "                                        'min_samples_leaf': [1, 2, 4, 5, 6],\n",
       "                                        'min_samples_split': [2, 5, 8, 10, 15],\n",
       "                                        'n_estimators': [100, 177, 255, 333,\n",
       "                                                         411, 488, 566, 644,\n",
       "                                                         722, 800]},\n",
       "                   random_state=42, verbose=2)"
      ]
     },
     "execution_count": 90,
     "metadata": {},
     "output_type": "execute_result"
    }
   ],
   "source": [
    "rf = RandomForestRegressor()\n",
    "\n",
    "rf_random = RandomizedSearchCV(estimator = rf, param_distributions = random_grid, n_iter = 100, cv = 3, verbose=2, random_state=42, n_jobs = -1)\n",
    "rf_random.fit(X, y)"
   ]
  },
  {
   "cell_type": "code",
   "execution_count": 91,
   "metadata": {
    "colab": {
     "base_uri": "https://localhost:8080/"
    },
    "executionInfo": {
     "elapsed": 1258,
     "status": "ok",
     "timestamp": 1659182231676,
     "user": {
      "displayName": "Amal VN",
      "userId": "06605838277080622472"
     },
     "user_tz": -330
    },
    "id": "vbf79u0i5ptH",
    "outputId": "30a29552-5a15-400e-83ef-01e58d44be88"
   },
   "outputs": [
    {
     "data": {
      "text/plain": [
       "{'n_estimators': 411,\n",
       " 'min_samples_split': 10,\n",
       " 'min_samples_leaf': 2,\n",
       " 'max_features': 'auto',\n",
       " 'max_depth': 8}"
      ]
     },
     "execution_count": 91,
     "metadata": {},
     "output_type": "execute_result"
    }
   ],
   "source": [
    "rf_random.best_params_"
   ]
  },
  {
   "cell_type": "code",
   "execution_count": 92,
   "metadata": {
    "colab": {
     "base_uri": "https://localhost:8080/"
    },
    "executionInfo": {
     "elapsed": 439,
     "status": "ok",
     "timestamp": 1659182250758,
     "user": {
      "displayName": "Amal VN",
      "userId": "06605838277080622472"
     },
     "user_tz": -330
    },
    "id": "nK_YGzuZ96Pt",
    "outputId": "8f2bebee-0910-4ba7-f91a-815c39112937"
   },
   "outputs": [
    {
     "data": {
      "text/plain": [
       "0.5936667103894514"
      ]
     },
     "execution_count": 92,
     "metadata": {},
     "output_type": "execute_result"
    }
   ],
   "source": [
    "rf_random.best_score_"
   ]
  },
  {
   "cell_type": "markdown",
   "metadata": {
    "id": "bwBvpm1WOaKS"
   },
   "source": [
    "Further searching the results using Grid search"
   ]
  },
  {
   "cell_type": "code",
   "execution_count": 93,
   "metadata": {
    "colab": {
     "base_uri": "https://localhost:8080/"
    },
    "executionInfo": {
     "elapsed": 427,
     "status": "ok",
     "timestamp": 1659184297528,
     "user": {
      "displayName": "Amal VN",
      "userId": "06605838277080622472"
     },
     "user_tz": -330
    },
    "id": "oxAeTOcW9_VY",
    "outputId": "90e1d0a1-a6c9-4c05-cba3-c12d1953f58f"
   },
   "outputs": [
    {
     "data": {
      "text/plain": [
       "54"
      ]
     },
     "execution_count": 93,
     "metadata": {},
     "output_type": "execute_result"
    }
   ],
   "source": [
    "parameters = {'max_depth': [7, 8, 10], \n",
    "              'min_samples_split': [6, 8, 9], 'min_samples_leaf': [2, 3, 4], \n",
    "              'n_estimators': [600, 800]}\n",
    "\n",
    "param_size = ParameterGrid(parameters)\n",
    "len(param_size)"
   ]
  },
  {
   "cell_type": "code",
   "execution_count": 94,
   "metadata": {
    "colab": {
     "base_uri": "https://localhost:8080/"
    },
    "executionInfo": {
     "elapsed": 2895936,
     "status": "ok",
     "timestamp": 1659187196945,
     "user": {
      "displayName": "Amal VN",
      "userId": "06605838277080622472"
     },
     "user_tz": -330
    },
    "id": "_8jja66g-Y_s",
    "outputId": "8d441315-3fca-4958-9d15-01b268f20c91"
   },
   "outputs": [
    {
     "name": "stdout",
     "output_type": "stream",
     "text": [
      "Fitting 5 folds for each of 54 candidates, totalling 270 fits\n",
      "[CV] END max_depth=7, min_samples_leaf=2, min_samples_split=6, n_estimators=600; total time=   9.6s\n",
      "[CV] END max_depth=7, min_samples_leaf=2, min_samples_split=6, n_estimators=600; total time=   8.0s\n",
      "[CV] END max_depth=7, min_samples_leaf=2, min_samples_split=6, n_estimators=600; total time=   8.1s\n",
      "[CV] END max_depth=7, min_samples_leaf=2, min_samples_split=6, n_estimators=600; total time=   6.4s\n",
      "[CV] END max_depth=7, min_samples_leaf=2, min_samples_split=6, n_estimators=600; total time=   6.0s\n",
      "[CV] END max_depth=7, min_samples_leaf=2, min_samples_split=6, n_estimators=800; total time=   8.3s\n",
      "[CV] END max_depth=7, min_samples_leaf=2, min_samples_split=6, n_estimators=800; total time=   7.8s\n",
      "[CV] END max_depth=7, min_samples_leaf=2, min_samples_split=6, n_estimators=800; total time=   7.8s\n",
      "[CV] END max_depth=7, min_samples_leaf=2, min_samples_split=6, n_estimators=800; total time=   8.0s\n",
      "[CV] END max_depth=7, min_samples_leaf=2, min_samples_split=6, n_estimators=800; total time=  10.6s\n",
      "[CV] END max_depth=7, min_samples_leaf=2, min_samples_split=8, n_estimators=600; total time=   7.7s\n",
      "[CV] END max_depth=7, min_samples_leaf=2, min_samples_split=8, n_estimators=600; total time=   7.0s\n",
      "[CV] END max_depth=7, min_samples_leaf=2, min_samples_split=8, n_estimators=600; total time=   7.1s\n",
      "[CV] END max_depth=7, min_samples_leaf=2, min_samples_split=8, n_estimators=600; total time=   6.7s\n",
      "[CV] END max_depth=7, min_samples_leaf=2, min_samples_split=8, n_estimators=600; total time=   8.1s\n",
      "[CV] END max_depth=7, min_samples_leaf=2, min_samples_split=8, n_estimators=800; total time=   9.1s\n",
      "[CV] END max_depth=7, min_samples_leaf=2, min_samples_split=8, n_estimators=800; total time=   9.6s\n",
      "[CV] END max_depth=7, min_samples_leaf=2, min_samples_split=8, n_estimators=800; total time=   8.4s\n",
      "[CV] END max_depth=7, min_samples_leaf=2, min_samples_split=8, n_estimators=800; total time=   8.7s\n",
      "[CV] END max_depth=7, min_samples_leaf=2, min_samples_split=8, n_estimators=800; total time=   8.6s\n",
      "[CV] END max_depth=7, min_samples_leaf=2, min_samples_split=9, n_estimators=600; total time=   6.7s\n",
      "[CV] END max_depth=7, min_samples_leaf=2, min_samples_split=9, n_estimators=600; total time=   6.2s\n",
      "[CV] END max_depth=7, min_samples_leaf=2, min_samples_split=9, n_estimators=600; total time=   6.7s\n",
      "[CV] END max_depth=7, min_samples_leaf=2, min_samples_split=9, n_estimators=600; total time=   6.3s\n",
      "[CV] END max_depth=7, min_samples_leaf=2, min_samples_split=9, n_estimators=600; total time=   5.9s\n",
      "[CV] END max_depth=7, min_samples_leaf=2, min_samples_split=9, n_estimators=800; total time=   8.1s\n",
      "[CV] END max_depth=7, min_samples_leaf=2, min_samples_split=9, n_estimators=800; total time=   9.5s\n",
      "[CV] END max_depth=7, min_samples_leaf=2, min_samples_split=9, n_estimators=800; total time=   8.7s\n",
      "[CV] END max_depth=7, min_samples_leaf=2, min_samples_split=9, n_estimators=800; total time=   8.4s\n",
      "[CV] END max_depth=7, min_samples_leaf=2, min_samples_split=9, n_estimators=800; total time=   8.3s\n",
      "[CV] END max_depth=7, min_samples_leaf=3, min_samples_split=6, n_estimators=600; total time=   5.7s\n",
      "[CV] END max_depth=7, min_samples_leaf=3, min_samples_split=6, n_estimators=600; total time=   6.1s\n",
      "[CV] END max_depth=7, min_samples_leaf=3, min_samples_split=6, n_estimators=600; total time=   5.9s\n",
      "[CV] END max_depth=7, min_samples_leaf=3, min_samples_split=6, n_estimators=600; total time=   6.0s\n",
      "[CV] END max_depth=7, min_samples_leaf=3, min_samples_split=6, n_estimators=600; total time=   6.6s\n",
      "[CV] END max_depth=7, min_samples_leaf=3, min_samples_split=6, n_estimators=800; total time=   8.4s\n",
      "[CV] END max_depth=7, min_samples_leaf=3, min_samples_split=6, n_estimators=800; total time=   9.2s\n",
      "[CV] END max_depth=7, min_samples_leaf=3, min_samples_split=6, n_estimators=800; total time=   9.1s\n",
      "[CV] END max_depth=7, min_samples_leaf=3, min_samples_split=6, n_estimators=800; total time=   9.2s\n",
      "[CV] END max_depth=7, min_samples_leaf=3, min_samples_split=6, n_estimators=800; total time=   9.3s\n",
      "[CV] END max_depth=7, min_samples_leaf=3, min_samples_split=8, n_estimators=600; total time=   6.7s\n",
      "[CV] END max_depth=7, min_samples_leaf=3, min_samples_split=8, n_estimators=600; total time=   6.2s\n",
      "[CV] END max_depth=7, min_samples_leaf=3, min_samples_split=8, n_estimators=600; total time=   6.0s\n",
      "[CV] END max_depth=7, min_samples_leaf=3, min_samples_split=8, n_estimators=600; total time=   5.9s\n",
      "[CV] END max_depth=7, min_samples_leaf=3, min_samples_split=8, n_estimators=600; total time=   5.9s\n",
      "[CV] END max_depth=7, min_samples_leaf=3, min_samples_split=8, n_estimators=800; total time=   7.9s\n",
      "[CV] END max_depth=7, min_samples_leaf=3, min_samples_split=8, n_estimators=800; total time=  11.3s\n",
      "[CV] END max_depth=7, min_samples_leaf=3, min_samples_split=8, n_estimators=800; total time=   8.1s\n",
      "[CV] END max_depth=7, min_samples_leaf=3, min_samples_split=8, n_estimators=800; total time=   8.2s\n",
      "[CV] END max_depth=7, min_samples_leaf=3, min_samples_split=8, n_estimators=800; total time=   8.0s\n",
      "[CV] END max_depth=7, min_samples_leaf=3, min_samples_split=9, n_estimators=600; total time=   5.9s\n",
      "[CV] END max_depth=7, min_samples_leaf=3, min_samples_split=9, n_estimators=600; total time=   5.8s\n",
      "[CV] END max_depth=7, min_samples_leaf=3, min_samples_split=9, n_estimators=600; total time=   6.0s\n",
      "[CV] END max_depth=7, min_samples_leaf=3, min_samples_split=9, n_estimators=600; total time=   6.1s\n",
      "[CV] END max_depth=7, min_samples_leaf=3, min_samples_split=9, n_estimators=600; total time=   6.2s\n",
      "[CV] END max_depth=7, min_samples_leaf=3, min_samples_split=9, n_estimators=800; total time=   8.1s\n",
      "[CV] END max_depth=7, min_samples_leaf=3, min_samples_split=9, n_estimators=800; total time=   8.1s\n",
      "[CV] END max_depth=7, min_samples_leaf=3, min_samples_split=9, n_estimators=800; total time=   9.1s\n",
      "[CV] END max_depth=7, min_samples_leaf=3, min_samples_split=9, n_estimators=800; total time=   8.1s\n",
      "[CV] END max_depth=7, min_samples_leaf=3, min_samples_split=9, n_estimators=800; total time=   8.0s\n",
      "[CV] END max_depth=7, min_samples_leaf=4, min_samples_split=6, n_estimators=600; total time=   6.0s\n",
      "[CV] END max_depth=7, min_samples_leaf=4, min_samples_split=6, n_estimators=600; total time=   6.0s\n",
      "[CV] END max_depth=7, min_samples_leaf=4, min_samples_split=6, n_estimators=600; total time=   6.9s\n",
      "[CV] END max_depth=7, min_samples_leaf=4, min_samples_split=6, n_estimators=600; total time=   6.4s\n",
      "[CV] END max_depth=7, min_samples_leaf=4, min_samples_split=6, n_estimators=600; total time=   5.8s\n",
      "[CV] END max_depth=7, min_samples_leaf=4, min_samples_split=6, n_estimators=800; total time=   8.4s\n",
      "[CV] END max_depth=7, min_samples_leaf=4, min_samples_split=6, n_estimators=800; total time=   8.8s\n",
      "[CV] END max_depth=7, min_samples_leaf=4, min_samples_split=6, n_estimators=800; total time=  11.5s\n",
      "[CV] END max_depth=7, min_samples_leaf=4, min_samples_split=6, n_estimators=800; total time=   9.0s\n",
      "[CV] END max_depth=7, min_samples_leaf=4, min_samples_split=6, n_estimators=800; total time=   8.7s\n",
      "[CV] END max_depth=7, min_samples_leaf=4, min_samples_split=8, n_estimators=600; total time=   6.0s\n",
      "[CV] END max_depth=7, min_samples_leaf=4, min_samples_split=8, n_estimators=600; total time=   6.0s\n",
      "[CV] END max_depth=7, min_samples_leaf=4, min_samples_split=8, n_estimators=600; total time=   6.0s\n",
      "[CV] END max_depth=7, min_samples_leaf=4, min_samples_split=8, n_estimators=600; total time=   6.2s\n",
      "[CV] END max_depth=7, min_samples_leaf=4, min_samples_split=8, n_estimators=600; total time=   6.8s\n",
      "[CV] END max_depth=7, min_samples_leaf=4, min_samples_split=8, n_estimators=800; total time=   9.1s\n",
      "[CV] END max_depth=7, min_samples_leaf=4, min_samples_split=8, n_estimators=800; total time=   8.5s\n",
      "[CV] END max_depth=7, min_samples_leaf=4, min_samples_split=8, n_estimators=800; total time=   8.4s\n",
      "[CV] END max_depth=7, min_samples_leaf=4, min_samples_split=8, n_estimators=800; total time=   8.7s\n",
      "[CV] END max_depth=7, min_samples_leaf=4, min_samples_split=8, n_estimators=800; total time=   8.9s\n",
      "[CV] END max_depth=7, min_samples_leaf=4, min_samples_split=9, n_estimators=600; total time=   6.6s\n",
      "[CV] END max_depth=7, min_samples_leaf=4, min_samples_split=9, n_estimators=600; total time=   6.4s\n"
     ]
    },
    {
     "name": "stdout",
     "output_type": "stream",
     "text": [
      "[CV] END max_depth=7, min_samples_leaf=4, min_samples_split=9, n_estimators=600; total time=   6.5s\n",
      "[CV] END max_depth=7, min_samples_leaf=4, min_samples_split=9, n_estimators=600; total time=   7.1s\n",
      "[CV] END max_depth=7, min_samples_leaf=4, min_samples_split=9, n_estimators=600; total time=   7.4s\n",
      "[CV] END max_depth=7, min_samples_leaf=4, min_samples_split=9, n_estimators=800; total time=   9.7s\n",
      "[CV] END max_depth=7, min_samples_leaf=4, min_samples_split=9, n_estimators=800; total time=   8.8s\n",
      "[CV] END max_depth=7, min_samples_leaf=4, min_samples_split=9, n_estimators=800; total time=   8.6s\n",
      "[CV] END max_depth=7, min_samples_leaf=4, min_samples_split=9, n_estimators=800; total time=   9.5s\n",
      "[CV] END max_depth=7, min_samples_leaf=4, min_samples_split=9, n_estimators=800; total time=   9.0s\n",
      "[CV] END max_depth=8, min_samples_leaf=2, min_samples_split=6, n_estimators=600; total time=   8.0s\n",
      "[CV] END max_depth=8, min_samples_leaf=2, min_samples_split=6, n_estimators=600; total time=   7.2s\n",
      "[CV] END max_depth=8, min_samples_leaf=2, min_samples_split=6, n_estimators=600; total time=   7.7s\n",
      "[CV] END max_depth=8, min_samples_leaf=2, min_samples_split=6, n_estimators=600; total time=   8.0s\n",
      "[CV] END max_depth=8, min_samples_leaf=2, min_samples_split=6, n_estimators=600; total time=   7.3s\n",
      "[CV] END max_depth=8, min_samples_leaf=2, min_samples_split=6, n_estimators=800; total time=  10.0s\n",
      "[CV] END max_depth=8, min_samples_leaf=2, min_samples_split=6, n_estimators=800; total time=   9.7s\n",
      "[CV] END max_depth=8, min_samples_leaf=2, min_samples_split=6, n_estimators=800; total time=  10.1s\n",
      "[CV] END max_depth=8, min_samples_leaf=2, min_samples_split=6, n_estimators=800; total time=   9.8s\n",
      "[CV] END max_depth=8, min_samples_leaf=2, min_samples_split=6, n_estimators=800; total time=  10.7s\n",
      "[CV] END max_depth=8, min_samples_leaf=2, min_samples_split=8, n_estimators=600; total time=   7.8s\n",
      "[CV] END max_depth=8, min_samples_leaf=2, min_samples_split=8, n_estimators=600; total time=   7.9s\n",
      "[CV] END max_depth=8, min_samples_leaf=2, min_samples_split=8, n_estimators=600; total time=   8.4s\n",
      "[CV] END max_depth=8, min_samples_leaf=2, min_samples_split=8, n_estimators=600; total time=   9.0s\n",
      "[CV] END max_depth=8, min_samples_leaf=2, min_samples_split=8, n_estimators=600; total time=  11.3s\n",
      "[CV] END max_depth=8, min_samples_leaf=2, min_samples_split=8, n_estimators=800; total time=  11.1s\n",
      "[CV] END max_depth=8, min_samples_leaf=2, min_samples_split=8, n_estimators=800; total time=  10.1s\n",
      "[CV] END max_depth=8, min_samples_leaf=2, min_samples_split=8, n_estimators=800; total time=  10.3s\n",
      "[CV] END max_depth=8, min_samples_leaf=2, min_samples_split=8, n_estimators=800; total time=  10.1s\n",
      "[CV] END max_depth=8, min_samples_leaf=2, min_samples_split=8, n_estimators=800; total time=  10.5s\n",
      "[CV] END max_depth=8, min_samples_leaf=2, min_samples_split=9, n_estimators=600; total time=   8.6s\n",
      "[CV] END max_depth=8, min_samples_leaf=2, min_samples_split=9, n_estimators=600; total time=   7.9s\n",
      "[CV] END max_depth=8, min_samples_leaf=2, min_samples_split=9, n_estimators=600; total time=   7.4s\n",
      "[CV] END max_depth=8, min_samples_leaf=2, min_samples_split=9, n_estimators=600; total time=   7.3s\n",
      "[CV] END max_depth=8, min_samples_leaf=2, min_samples_split=9, n_estimators=600; total time=   7.6s\n",
      "[CV] END max_depth=8, min_samples_leaf=2, min_samples_split=9, n_estimators=800; total time=  10.2s\n",
      "[CV] END max_depth=8, min_samples_leaf=2, min_samples_split=9, n_estimators=800; total time=   9.8s\n",
      "[CV] END max_depth=8, min_samples_leaf=2, min_samples_split=9, n_estimators=800; total time=   9.9s\n",
      "[CV] END max_depth=8, min_samples_leaf=2, min_samples_split=9, n_estimators=800; total time=   9.3s\n",
      "[CV] END max_depth=8, min_samples_leaf=2, min_samples_split=9, n_estimators=800; total time=   9.6s\n",
      "[CV] END max_depth=8, min_samples_leaf=3, min_samples_split=6, n_estimators=600; total time=   7.1s\n",
      "[CV] END max_depth=8, min_samples_leaf=3, min_samples_split=6, n_estimators=600; total time=   7.0s\n",
      "[CV] END max_depth=8, min_samples_leaf=3, min_samples_split=6, n_estimators=600; total time=   7.6s\n",
      "[CV] END max_depth=8, min_samples_leaf=3, min_samples_split=6, n_estimators=600; total time=   8.0s\n",
      "[CV] END max_depth=8, min_samples_leaf=3, min_samples_split=6, n_estimators=600; total time=   7.4s\n",
      "[CV] END max_depth=8, min_samples_leaf=3, min_samples_split=6, n_estimators=800; total time=  11.2s\n",
      "[CV] END max_depth=8, min_samples_leaf=3, min_samples_split=6, n_estimators=800; total time=   9.4s\n",
      "[CV] END max_depth=8, min_samples_leaf=3, min_samples_split=6, n_estimators=800; total time=  11.4s\n",
      "[CV] END max_depth=8, min_samples_leaf=3, min_samples_split=6, n_estimators=800; total time=   9.6s\n",
      "[CV] END max_depth=8, min_samples_leaf=3, min_samples_split=6, n_estimators=800; total time=   8.9s\n",
      "[CV] END max_depth=8, min_samples_leaf=3, min_samples_split=8, n_estimators=600; total time=   6.9s\n",
      "[CV] END max_depth=8, min_samples_leaf=3, min_samples_split=8, n_estimators=600; total time=   6.6s\n",
      "[CV] END max_depth=8, min_samples_leaf=3, min_samples_split=8, n_estimators=600; total time=   8.6s\n",
      "[CV] END max_depth=8, min_samples_leaf=3, min_samples_split=8, n_estimators=600; total time=   7.6s\n",
      "[CV] END max_depth=8, min_samples_leaf=3, min_samples_split=8, n_estimators=600; total time=   7.0s\n",
      "[CV] END max_depth=8, min_samples_leaf=3, min_samples_split=8, n_estimators=800; total time=   9.6s\n",
      "[CV] END max_depth=8, min_samples_leaf=3, min_samples_split=8, n_estimators=800; total time=   9.8s\n",
      "[CV] END max_depth=8, min_samples_leaf=3, min_samples_split=8, n_estimators=800; total time=   8.9s\n",
      "[CV] END max_depth=8, min_samples_leaf=3, min_samples_split=8, n_estimators=800; total time=   9.0s\n",
      "[CV] END max_depth=8, min_samples_leaf=3, min_samples_split=8, n_estimators=800; total time=   8.8s\n",
      "[CV] END max_depth=8, min_samples_leaf=3, min_samples_split=9, n_estimators=600; total time=   6.5s\n",
      "[CV] END max_depth=8, min_samples_leaf=3, min_samples_split=9, n_estimators=600; total time=   6.7s\n",
      "[CV] END max_depth=8, min_samples_leaf=3, min_samples_split=9, n_estimators=600; total time=   6.6s\n",
      "[CV] END max_depth=8, min_samples_leaf=3, min_samples_split=9, n_estimators=600; total time=   6.5s\n",
      "[CV] END max_depth=8, min_samples_leaf=3, min_samples_split=9, n_estimators=600; total time=   7.0s\n",
      "[CV] END max_depth=8, min_samples_leaf=3, min_samples_split=9, n_estimators=800; total time=  11.3s\n",
      "[CV] END max_depth=8, min_samples_leaf=3, min_samples_split=9, n_estimators=800; total time=  10.2s\n",
      "[CV] END max_depth=8, min_samples_leaf=3, min_samples_split=9, n_estimators=800; total time=  10.5s\n",
      "[CV] END max_depth=8, min_samples_leaf=3, min_samples_split=9, n_estimators=800; total time=   8.8s\n",
      "[CV] END max_depth=8, min_samples_leaf=3, min_samples_split=9, n_estimators=800; total time=   8.6s\n",
      "[CV] END max_depth=8, min_samples_leaf=4, min_samples_split=6, n_estimators=600; total time=   5.6s\n",
      "[CV] END max_depth=8, min_samples_leaf=4, min_samples_split=6, n_estimators=600; total time=   5.7s\n",
      "[CV] END max_depth=8, min_samples_leaf=4, min_samples_split=6, n_estimators=600; total time=   6.3s\n",
      "[CV] END max_depth=8, min_samples_leaf=4, min_samples_split=6, n_estimators=600; total time=   6.1s\n",
      "[CV] END max_depth=8, min_samples_leaf=4, min_samples_split=6, n_estimators=600; total time=   7.0s\n",
      "[CV] END max_depth=8, min_samples_leaf=4, min_samples_split=6, n_estimators=800; total time=   8.8s\n",
      "[CV] END max_depth=8, min_samples_leaf=4, min_samples_split=6, n_estimators=800; total time=   8.7s\n",
      "[CV] END max_depth=8, min_samples_leaf=4, min_samples_split=6, n_estimators=800; total time=   7.8s\n",
      "[CV] END max_depth=8, min_samples_leaf=4, min_samples_split=6, n_estimators=800; total time=   8.0s\n",
      "[CV] END max_depth=8, min_samples_leaf=4, min_samples_split=6, n_estimators=800; total time=   8.0s\n",
      "[CV] END max_depth=8, min_samples_leaf=4, min_samples_split=8, n_estimators=600; total time=   6.2s\n",
      "[CV] END max_depth=8, min_samples_leaf=4, min_samples_split=8, n_estimators=600; total time=   6.3s\n",
      "[CV] END max_depth=8, min_samples_leaf=4, min_samples_split=8, n_estimators=600; total time=   6.5s\n",
      "[CV] END max_depth=8, min_samples_leaf=4, min_samples_split=8, n_estimators=600; total time=   6.5s\n"
     ]
    },
    {
     "name": "stdout",
     "output_type": "stream",
     "text": [
      "[CV] END max_depth=8, min_samples_leaf=4, min_samples_split=8, n_estimators=600; total time=   6.4s\n",
      "[CV] END max_depth=8, min_samples_leaf=4, min_samples_split=8, n_estimators=800; total time=   8.3s\n",
      "[CV] END max_depth=8, min_samples_leaf=4, min_samples_split=8, n_estimators=800; total time=   8.4s\n",
      "[CV] END max_depth=8, min_samples_leaf=4, min_samples_split=8, n_estimators=800; total time=   8.5s\n",
      "[CV] END max_depth=8, min_samples_leaf=4, min_samples_split=8, n_estimators=800; total time=   8.7s\n",
      "[CV] END max_depth=8, min_samples_leaf=4, min_samples_split=8, n_estimators=800; total time=   8.9s\n",
      "[CV] END max_depth=8, min_samples_leaf=4, min_samples_split=9, n_estimators=600; total time=   7.1s\n",
      "[CV] END max_depth=8, min_samples_leaf=4, min_samples_split=9, n_estimators=600; total time=   6.2s\n",
      "[CV] END max_depth=8, min_samples_leaf=4, min_samples_split=9, n_estimators=600; total time=   6.7s\n",
      "[CV] END max_depth=8, min_samples_leaf=4, min_samples_split=9, n_estimators=600; total time=   6.4s\n",
      "[CV] END max_depth=8, min_samples_leaf=4, min_samples_split=9, n_estimators=600; total time=   6.8s\n",
      "[CV] END max_depth=8, min_samples_leaf=4, min_samples_split=9, n_estimators=800; total time=   9.0s\n",
      "[CV] END max_depth=8, min_samples_leaf=4, min_samples_split=9, n_estimators=800; total time=   8.6s\n",
      "[CV] END max_depth=8, min_samples_leaf=4, min_samples_split=9, n_estimators=800; total time=   8.8s\n",
      "[CV] END max_depth=8, min_samples_leaf=4, min_samples_split=9, n_estimators=800; total time=   9.0s\n",
      "[CV] END max_depth=8, min_samples_leaf=4, min_samples_split=9, n_estimators=800; total time=   8.9s\n",
      "[CV] END max_depth=10, min_samples_leaf=2, min_samples_split=6, n_estimators=600; total time=   8.5s\n",
      "[CV] END max_depth=10, min_samples_leaf=2, min_samples_split=6, n_estimators=600; total time=   8.6s\n",
      "[CV] END max_depth=10, min_samples_leaf=2, min_samples_split=6, n_estimators=600; total time=   8.1s\n",
      "[CV] END max_depth=10, min_samples_leaf=2, min_samples_split=6, n_estimators=600; total time=   7.9s\n",
      "[CV] END max_depth=10, min_samples_leaf=2, min_samples_split=6, n_estimators=600; total time=   8.1s\n",
      "[CV] END max_depth=10, min_samples_leaf=2, min_samples_split=6, n_estimators=800; total time=  10.9s\n",
      "[CV] END max_depth=10, min_samples_leaf=2, min_samples_split=6, n_estimators=800; total time=  11.3s\n",
      "[CV] END max_depth=10, min_samples_leaf=2, min_samples_split=6, n_estimators=800; total time=  10.7s\n",
      "[CV] END max_depth=10, min_samples_leaf=2, min_samples_split=6, n_estimators=800; total time=  11.1s\n",
      "[CV] END max_depth=10, min_samples_leaf=2, min_samples_split=6, n_estimators=800; total time=  11.3s\n",
      "[CV] END max_depth=10, min_samples_leaf=2, min_samples_split=8, n_estimators=600; total time=   8.1s\n",
      "[CV] END max_depth=10, min_samples_leaf=2, min_samples_split=8, n_estimators=600; total time=   8.1s\n",
      "[CV] END max_depth=10, min_samples_leaf=2, min_samples_split=8, n_estimators=600; total time=   7.9s\n",
      "[CV] END max_depth=10, min_samples_leaf=2, min_samples_split=8, n_estimators=600; total time=   8.0s\n",
      "[CV] END max_depth=10, min_samples_leaf=2, min_samples_split=8, n_estimators=600; total time=   7.6s\n",
      "[CV] END max_depth=10, min_samples_leaf=2, min_samples_split=8, n_estimators=800; total time=  10.2s\n",
      "[CV] END max_depth=10, min_samples_leaf=2, min_samples_split=8, n_estimators=800; total time=  10.2s\n",
      "[CV] END max_depth=10, min_samples_leaf=2, min_samples_split=8, n_estimators=800; total time=  10.3s\n",
      "[CV] END max_depth=10, min_samples_leaf=2, min_samples_split=8, n_estimators=800; total time=  10.4s\n",
      "[CV] END max_depth=10, min_samples_leaf=2, min_samples_split=8, n_estimators=800; total time=  10.3s\n",
      "[CV] END max_depth=10, min_samples_leaf=2, min_samples_split=9, n_estimators=600; total time=   7.6s\n",
      "[CV] END max_depth=10, min_samples_leaf=2, min_samples_split=9, n_estimators=600; total time=   7.6s\n",
      "[CV] END max_depth=10, min_samples_leaf=2, min_samples_split=9, n_estimators=600; total time=   7.7s\n",
      "[CV] END max_depth=10, min_samples_leaf=2, min_samples_split=9, n_estimators=600; total time=   7.6s\n",
      "[CV] END max_depth=10, min_samples_leaf=2, min_samples_split=9, n_estimators=600; total time=   7.7s\n",
      "[CV] END max_depth=10, min_samples_leaf=2, min_samples_split=9, n_estimators=800; total time=  10.2s\n",
      "[CV] END max_depth=10, min_samples_leaf=2, min_samples_split=9, n_estimators=800; total time=  10.2s\n",
      "[CV] END max_depth=10, min_samples_leaf=2, min_samples_split=9, n_estimators=800; total time=  10.2s\n",
      "[CV] END max_depth=10, min_samples_leaf=2, min_samples_split=9, n_estimators=800; total time=  10.1s\n",
      "[CV] END max_depth=10, min_samples_leaf=2, min_samples_split=9, n_estimators=800; total time=  10.2s\n",
      "[CV] END max_depth=10, min_samples_leaf=3, min_samples_split=6, n_estimators=600; total time=   7.7s\n",
      "[CV] END max_depth=10, min_samples_leaf=3, min_samples_split=6, n_estimators=600; total time=   7.7s\n",
      "[CV] END max_depth=10, min_samples_leaf=3, min_samples_split=6, n_estimators=600; total time=   8.2s\n",
      "[CV] END max_depth=10, min_samples_leaf=3, min_samples_split=6, n_estimators=600; total time=   7.6s\n",
      "[CV] END max_depth=10, min_samples_leaf=3, min_samples_split=6, n_estimators=600; total time=   7.7s\n",
      "[CV] END max_depth=10, min_samples_leaf=3, min_samples_split=6, n_estimators=800; total time=  13.0s\n",
      "[CV] END max_depth=10, min_samples_leaf=3, min_samples_split=6, n_estimators=800; total time=  11.0s\n",
      "[CV] END max_depth=10, min_samples_leaf=3, min_samples_split=6, n_estimators=800; total time=  10.5s\n",
      "[CV] END max_depth=10, min_samples_leaf=3, min_samples_split=6, n_estimators=800; total time=  10.3s\n",
      "[CV] END max_depth=10, min_samples_leaf=3, min_samples_split=6, n_estimators=800; total time=  10.8s\n",
      "[CV] END max_depth=10, min_samples_leaf=3, min_samples_split=8, n_estimators=600; total time=   7.7s\n",
      "[CV] END max_depth=10, min_samples_leaf=3, min_samples_split=8, n_estimators=600; total time=   7.9s\n",
      "[CV] END max_depth=10, min_samples_leaf=3, min_samples_split=8, n_estimators=600; total time=   7.9s\n",
      "[CV] END max_depth=10, min_samples_leaf=3, min_samples_split=8, n_estimators=600; total time=   7.8s\n",
      "[CV] END max_depth=10, min_samples_leaf=3, min_samples_split=8, n_estimators=600; total time=   7.6s\n",
      "[CV] END max_depth=10, min_samples_leaf=3, min_samples_split=8, n_estimators=800; total time=  10.8s\n",
      "[CV] END max_depth=10, min_samples_leaf=3, min_samples_split=8, n_estimators=800; total time=  10.5s\n",
      "[CV] END max_depth=10, min_samples_leaf=3, min_samples_split=8, n_estimators=800; total time=  10.3s\n",
      "[CV] END max_depth=10, min_samples_leaf=3, min_samples_split=8, n_estimators=800; total time=  11.3s\n",
      "[CV] END max_depth=10, min_samples_leaf=3, min_samples_split=8, n_estimators=800; total time=  10.7s\n",
      "[CV] END max_depth=10, min_samples_leaf=3, min_samples_split=9, n_estimators=600; total time=   8.5s\n",
      "[CV] END max_depth=10, min_samples_leaf=3, min_samples_split=9, n_estimators=600; total time=   8.0s\n",
      "[CV] END max_depth=10, min_samples_leaf=3, min_samples_split=9, n_estimators=600; total time=   7.8s\n",
      "[CV] END max_depth=10, min_samples_leaf=3, min_samples_split=9, n_estimators=600; total time=   7.8s\n",
      "[CV] END max_depth=10, min_samples_leaf=3, min_samples_split=9, n_estimators=600; total time=   7.5s\n",
      "[CV] END max_depth=10, min_samples_leaf=3, min_samples_split=9, n_estimators=800; total time=  10.6s\n",
      "[CV] END max_depth=10, min_samples_leaf=3, min_samples_split=9, n_estimators=800; total time=  10.2s\n",
      "[CV] END max_depth=10, min_samples_leaf=3, min_samples_split=9, n_estimators=800; total time=  10.1s\n",
      "[CV] END max_depth=10, min_samples_leaf=3, min_samples_split=9, n_estimators=800; total time=  10.2s\n",
      "[CV] END max_depth=10, min_samples_leaf=3, min_samples_split=9, n_estimators=800; total time=  10.4s\n",
      "[CV] END max_depth=10, min_samples_leaf=4, min_samples_split=6, n_estimators=600; total time=   8.1s\n",
      "[CV] END max_depth=10, min_samples_leaf=4, min_samples_split=6, n_estimators=600; total time=   7.7s\n",
      "[CV] END max_depth=10, min_samples_leaf=4, min_samples_split=6, n_estimators=600; total time=   7.8s\n",
      "[CV] END max_depth=10, min_samples_leaf=4, min_samples_split=6, n_estimators=600; total time=   7.6s\n",
      "[CV] END max_depth=10, min_samples_leaf=4, min_samples_split=6, n_estimators=600; total time=   7.6s\n",
      "[CV] END max_depth=10, min_samples_leaf=4, min_samples_split=6, n_estimators=800; total time=  10.0s\n"
     ]
    },
    {
     "name": "stdout",
     "output_type": "stream",
     "text": [
      "[CV] END max_depth=10, min_samples_leaf=4, min_samples_split=6, n_estimators=800; total time=  10.3s\n",
      "[CV] END max_depth=10, min_samples_leaf=4, min_samples_split=6, n_estimators=800; total time=  10.1s\n",
      "[CV] END max_depth=10, min_samples_leaf=4, min_samples_split=6, n_estimators=800; total time=  10.0s\n",
      "[CV] END max_depth=10, min_samples_leaf=4, min_samples_split=6, n_estimators=800; total time=  10.2s\n",
      "[CV] END max_depth=10, min_samples_leaf=4, min_samples_split=8, n_estimators=600; total time=   7.5s\n",
      "[CV] END max_depth=10, min_samples_leaf=4, min_samples_split=8, n_estimators=600; total time=   7.5s\n",
      "[CV] END max_depth=10, min_samples_leaf=4, min_samples_split=8, n_estimators=600; total time=   7.6s\n",
      "[CV] END max_depth=10, min_samples_leaf=4, min_samples_split=8, n_estimators=600; total time=   7.8s\n",
      "[CV] END max_depth=10, min_samples_leaf=4, min_samples_split=8, n_estimators=600; total time=   7.7s\n",
      "[CV] END max_depth=10, min_samples_leaf=4, min_samples_split=8, n_estimators=800; total time=  11.1s\n",
      "[CV] END max_depth=10, min_samples_leaf=4, min_samples_split=8, n_estimators=800; total time=  11.4s\n",
      "[CV] END max_depth=10, min_samples_leaf=4, min_samples_split=8, n_estimators=800; total time=  10.5s\n",
      "[CV] END max_depth=10, min_samples_leaf=4, min_samples_split=8, n_estimators=800; total time=  10.3s\n",
      "[CV] END max_depth=10, min_samples_leaf=4, min_samples_split=8, n_estimators=800; total time=  10.2s\n",
      "[CV] END max_depth=10, min_samples_leaf=4, min_samples_split=9, n_estimators=600; total time=   7.8s\n",
      "[CV] END max_depth=10, min_samples_leaf=4, min_samples_split=9, n_estimators=600; total time=   7.6s\n",
      "[CV] END max_depth=10, min_samples_leaf=4, min_samples_split=9, n_estimators=600; total time=   7.6s\n",
      "[CV] END max_depth=10, min_samples_leaf=4, min_samples_split=9, n_estimators=600; total time=   7.9s\n",
      "[CV] END max_depth=10, min_samples_leaf=4, min_samples_split=9, n_estimators=600; total time=   8.1s\n",
      "[CV] END max_depth=10, min_samples_leaf=4, min_samples_split=9, n_estimators=800; total time=  10.4s\n",
      "[CV] END max_depth=10, min_samples_leaf=4, min_samples_split=9, n_estimators=800; total time=  10.1s\n",
      "[CV] END max_depth=10, min_samples_leaf=4, min_samples_split=9, n_estimators=800; total time=  10.2s\n",
      "[CV] END max_depth=10, min_samples_leaf=4, min_samples_split=9, n_estimators=800; total time=  10.3s\n",
      "[CV] END max_depth=10, min_samples_leaf=4, min_samples_split=9, n_estimators=800; total time=  10.1s\n"
     ]
    }
   ],
   "source": [
    "rf_2 = RandomForestRegressor()\n",
    "grid_search = GridSearchCV(rf_2, parameters, cv=5, scoring='neg_root_mean_squared_error', verbose=2)\n",
    "grid_result = grid_search.fit(X, y)"
   ]
  },
  {
   "cell_type": "code",
   "execution_count": 95,
   "metadata": {
    "colab": {
     "base_uri": "https://localhost:8080/"
    },
    "executionInfo": {
     "elapsed": 12,
     "status": "ok",
     "timestamp": 1659187277116,
     "user": {
      "displayName": "Amal VN",
      "userId": "06605838277080622472"
     },
     "user_tz": -330
    },
    "id": "k1vJ15ke_DX5",
    "outputId": "8c3db14c-5528-4063-984e-c4e8fbb935bd"
   },
   "outputs": [
    {
     "name": "stdout",
     "output_type": "stream",
     "text": [
      "\n",
      "Best Params:  {'max_depth': 7, 'min_samples_leaf': 4, 'min_samples_split': 9, 'n_estimators': 800}\n",
      "\n",
      "Best Score:  1085.5077522136455\n"
     ]
    }
   ],
   "source": [
    "print('\\nBest Params: ', grid_result.best_params_)\n",
    "print('\\nBest Score: ', -grid_result.best_score_)"
   ]
  },
  {
   "cell_type": "code",
   "execution_count": 96,
   "metadata": {
    "id": "4d2wnhHNRA1D"
   },
   "outputs": [],
   "source": [
    "final_rf = RandomForestRegressor(n_estimators=600, max_depth=7, min_samples_leaf=4, \n",
    "                                 min_samples_split=6, random_state=42)\n",
    "model_eval(final_rf, X, y, X_test, 'final_rf')"
   ]
  },
  {
   "cell_type": "markdown",
   "metadata": {
    "id": "RWDmPqSFVDyN"
   },
   "source": [
    "The final score imporved to 1162.54"
   ]
  },
  {
   "cell_type": "code",
   "execution_count": null,
   "metadata": {},
   "outputs": [],
   "source": []
  }
 ],
 "metadata": {
  "colab": {
   "authorship_tag": "ABX9TyNL/wQpk2sdWJMnoSjodyO8",
   "collapsed_sections": [],
   "mount_file_id": "1thOLUafpXjGckqMaLy15k3-S4T7dgGuj",
   "name": "Competition_Team3.ipynb",
   "provenance": []
  },
  "kernelspec": {
   "display_name": "Python 3",
   "language": "python",
   "name": "python3"
  },
  "language_info": {
   "codemirror_mode": {
    "name": "ipython",
    "version": 3
   },
   "file_extension": ".py",
   "mimetype": "text/x-python",
   "name": "python",
   "nbconvert_exporter": "python",
   "pygments_lexer": "ipython3",
   "version": "3.10.4"
  }
 },
 "nbformat": 4,
 "nbformat_minor": 1
}
